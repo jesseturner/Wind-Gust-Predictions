{
 "cells": [
  {
   "cell_type": "markdown",
   "id": "16faaa09",
   "metadata": {},
   "source": [
    "## Import dependencies\n",
    "\n",
    "Make sure you are in the wind_gust conda environment\n",
    "\n",
    "Basemap is deprecated. Works in this environment because python was downgraded to 3.8.10. Cartopy provides similar features may be used in the future. "
   ]
  },
  {
   "cell_type": "code",
   "execution_count": null,
   "id": "1a991b00",
   "metadata": {},
   "outputs": [],
   "source": [
    "from netCDF4 import Dataset\n",
    "import numpy as np\n",
    "import pandas as pd\n",
    "import matplotlib.pyplot as plt\n",
    "from mpl_toolkits.basemap import Basemap\n",
    "from sklearn.model_selection import train_test_split, GridSearchCV\n",
    "from sklearn.preprocessing import StandardScaler\n",
    "from sklearn.neural_network import MLPRegressor\n",
    "from sklearn import metrics\n",
    "from sklearn.pipeline import Pipeline\n",
    "from sklearn.inspection import plot_partial_dependence\n",
    "import pickle"
   ]
  },
  {
   "cell_type": "markdown",
   "id": "30e77e27",
   "metadata": {},
   "source": [
    "## Sample data\n",
    "\n",
    "More data will be added here in the future, spanning different seasons. "
   ]
  },
  {
   "cell_type": "code",
   "execution_count": null,
   "id": "014a82ec",
   "metadata": {},
   "outputs": [],
   "source": [
    "Met_Train = Dataset(  # Metar Training\n",
    "    '/Users/jesseturner/Documents/Wind_Gust_Prediction/Gust_data/20170701_0000')\n",
    "Met_Test = Dataset(  # Metar Testing\n",
    "    '/Users/jesseturner/Documents/Wind_Gust_Prediction/Gust_data/20180613_0000')\n",
    "Hrrr = Dataset(  # HRRR\n",
    "    '/Users/jesseturner/Documents/Wind_Gust_Prediction/Gust_data/extract2Da.esrl_hrrr.201718201001300.nc')\n",
    "\n",
    "Met_Train.variables['windGust']\n",
    "#Hrrr.variables['GUST_P0_L1_GLC0']"
   ]
  },
  {
   "cell_type": "markdown",
   "id": "9a4ab2d6",
   "metadata": {},
   "source": [
    "# Format metar data"
   ]
  },
  {
   "cell_type": "code",
   "execution_count": null,
   "id": "d1b034cc",
   "metadata": {},
   "outputs": [],
   "source": [
    "met_gust_train = Met_Train.variables['windGust']\n",
    "met_lon_train = Met_Train.variables['longitude']\n",
    "met_lat_train = Met_Train.variables['latitude']\n",
    "met_temp_train = Met_Train.variables['temperature']\n",
    "met_windspeed_train = Met_Train.variables['windSpeed']\n",
    "met_winddir_train = Met_Train.variables['windDir']\n",
    "met_press_train = Met_Train.variables['seaLevelPress']\n",
    "\n",
    "met_gust_test = Met_Test.variables['windGust']\n",
    "met_lon_test = Met_Test.variables['longitude']\n",
    "met_lat_test = Met_Test.variables['latitude']\n",
    "met_temp_test = Met_Test.variables['temperature']\n",
    "met_windspeed_test = Met_Test.variables['windSpeed']\n",
    "met_winddir_test = Met_Test.variables['windDir']\n",
    "met_press_test = Met_Test.variables['seaLevelPress']"
   ]
  },
  {
   "cell_type": "markdown",
   "id": "e7208152",
   "metadata": {},
   "source": [
    "### Crop metar data to the continental US\n",
    "\n",
    "There is likely a more efficient way to do this. The warning of \"converting a masked element to nan\" is currently expected, but may be changed to do manually in the future. "
   ]
  },
  {
   "cell_type": "code",
   "execution_count": null,
   "id": "47568bf2",
   "metadata": {
    "scrolled": true
   },
   "outputs": [],
   "source": [
    "top = 49.3457868  # north lat\n",
    "left = -124.7844079  # west lon\n",
    "right = -66.9513812  # east lon\n",
    "bottom = 24.7433195  # south lat\n",
    "\n",
    "cell_train = []\n",
    "for g, lon, lat, t, ws, wd, p in zip(met_gust_train, met_lon_train, met_lat_train, \n",
    "                                     met_temp_train, met_windspeed_train, met_winddir_train, met_press_train):\n",
    "    if left <= lon <= right and bottom <= lat <= top:\n",
    "        cell_train.append((g, lon, lat, t, ws, wd, p))\n",
    "met_pos_train = np.asarray(cell_train)\n",
    "\n",
    "cell_test = []\n",
    "for g, lon, lat, t, ws, wd, p in zip(met_gust_test, met_lon_test, met_lat_test, \n",
    "                                     met_temp_test, met_windspeed_test, met_winddir_test, met_press_test):\n",
    "    if left <= lon <= right and bottom <= lat <= top:\n",
    "        cell_test.append((g, lon, lat, t, ws, wd, p))\n",
    "met_pos_test = np.asarray(cell_test)"
   ]
  },
  {
   "cell_type": "markdown",
   "id": "14010f78",
   "metadata": {},
   "source": [
    "### Convert metar data to dataframe"
   ]
  },
  {
   "cell_type": "code",
   "execution_count": null,
   "id": "86e0e433",
   "metadata": {},
   "outputs": [],
   "source": [
    "met_gust_train = met_pos_train[:, 0]\n",
    "met_lon_train = met_pos_train[:, 1]\n",
    "met_lat_train = met_pos_train[:, 2]\n",
    "met_temp_train = met_pos_train[:, 3]\n",
    "met_windspeed_train = met_pos_train[:, 4]\n",
    "met_winddir_train = met_pos_train[:, 5]\n",
    "met_press_train = met_pos_train[:, 6]\n",
    "\n",
    "\n",
    "met_df_train = pd.DataFrame(\n",
    "    {'MetWindGust': met_gust_train,\n",
    "     'Longitude': met_lon_train,\n",
    "     'Latitude': met_lat_train,\n",
    "     'Temperature': met_temp_train,\n",
    "     'Wind Speed': met_windspeed_train,\n",
    "     'Wind Direction': met_winddir_train,\n",
    "     'Pressure': met_press_train})\n",
    "\n",
    "met_df_train = met_df_train.round(4)\n",
    "met_df_train = met_df_train.replace(np.NaN, 0)\n",
    "met_df_train"
   ]
  },
  {
   "cell_type": "code",
   "execution_count": null,
   "id": "6e40dc2f",
   "metadata": {},
   "outputs": [],
   "source": [
    "met_gust_test = met_pos_test[:, 0]\n",
    "met_lon_test = met_pos_test[:, 1]\n",
    "met_lat_test = met_pos_test[:, 2]\n",
    "met_temp_test = met_pos_test[:, 3]\n",
    "met_windspeed_test = met_pos_test[:, 4]\n",
    "met_winddir_test = met_pos_test[:, 5]\n",
    "met_press_test = met_pos_test[:, 6]\n",
    "\n",
    "\n",
    "met_df_test = pd.DataFrame(\n",
    "    {'MetWindGust': met_gust_test,\n",
    "     'Longitude': met_lon_test,\n",
    "     'Latitude': met_lat_test,\n",
    "     'Temperature': met_temp_test,\n",
    "     'Wind Speed': met_windspeed_test,\n",
    "     'Wind Direction': met_winddir_test,\n",
    "     'Pressure': met_press_test})\n",
    "\n",
    "met_df_test = met_df_test.round(4)\n",
    "met_df_test = met_df_test.replace(np.NaN, 0)"
   ]
  },
  {
   "cell_type": "markdown",
   "id": "70b642df",
   "metadata": {},
   "source": [
    "### Plot metar locations\n",
    "\n",
    "Uses the converted zeroes from the dataframe. "
   ]
  },
  {
   "cell_type": "code",
   "execution_count": null,
   "id": "540579c1",
   "metadata": {
    "scrolled": false
   },
   "outputs": [],
   "source": [
    "fig = plt.figure(figsize=(10, 10))\n",
    "m = Basemap(projection='lcc', resolution='c',\n",
    "            width=6E6, height=6E6,\n",
    "            lat_0=45, lon_0=-100, )\n",
    "m.drawcoastlines()\n",
    "m.drawmapboundary()\n",
    "m.drawcountries()\n",
    "parallels = np.arange(0., 81, 10.)\n",
    "meridians = np.arange(10., 351., 20.)\n",
    "\n",
    "m.scatter(met_df_train.Longitude, met_df_train.Latitude, latlon=True, c=met_df_train.MetWindGust,\n",
    "          cmap='Purples', vmin=0, vmax=10, s=5)\n",
    "\n",
    "plt.colorbar(label='Measured gusts (meter/sec)', extend='max')\n",
    "\n",
    "plt.show()"
   ]
  },
  {
   "cell_type": "markdown",
   "id": "6cc26abc",
   "metadata": {},
   "source": [
    "### Training and running neural net\n",
    "\n",
    "Currently, predictions are made with the data of the same time. Inputs are scaled so they have comparable impact. Standard Scaler: z = (x - u)/s. \n",
    "\n",
    "u = mean, s = standard deviation.\n",
    "\n",
    "Two hidden layers: 100, 50. Used some rudimentary judging to come to this, testing and evaluating with RMSE. Read this for more info on the optimal amount: https://www.yourdatateacher.com/2021/05/10/how-many-neurons-for-a-neural-network/\n",
    "\n",
    "Activation function: Currently using rectified linear activation function (relu), has a flat-then linear shape, will allow for more dynamic range. Will output the input directly if it is positive, otherwise, it will output zero.\n",
    "\n",
    "Solver: adam. Uses back-propagration. \n",
    "\n",
    "Max Iterations: 1500. May be a little much. \n",
    "\n",
    "The model is saved as mlp_wind_gust."
   ]
  },
  {
   "cell_type": "code",
   "execution_count": null,
   "id": "380edf3a",
   "metadata": {},
   "outputs": [],
   "source": [
    "array_train = met_df_train.values\n",
    "X_train = array_train[:, 3:8]  # doesn't include lon, lat\n",
    "y_train = array_train[:, 0]\n",
    "scaler = StandardScaler()\n",
    "rescaled_X_train = (scaler.fit_transform(X_train))\n",
    "\n",
    "mlp = MLPRegressor(hidden_layer_sizes=(100, 50), activation='relu', solver='adam',\n",
    "                   alpha=0.0001, batch_size='auto', learning_rate='adaptive', learning_rate_init=0.001,\n",
    "                   power_t=0.5, max_iter=1500, shuffle=True, random_state=None, tol=0.0001, verbose=False,\n",
    "                   warm_start=False, momentum=0.9, nesterovs_momentum=True, early_stopping=False,\n",
    "                   validation_fraction=0.1, beta_1=0.9, beta_2=0.999, epsilon=1e-08)\n",
    "mlp = mlp.fit(rescaled_X_train, y_train)\n",
    "\n",
    "pickle.dump(mlp, open('mlp_wind_gust.pkl','wb'))\n",
    "\n",
    "array_test = met_df_test.values\n",
    "X_test = array_test[:, 3:8]  # doesn't include lon, lat\n",
    "y_test = array_test[:, 0]\n",
    "rescaled_X_test = (scaler.fit_transform(X_test))\n",
    "\n",
    "y_predict_mlp = mlp.predict(rescaled_X_test)"
   ]
  },
  {
   "cell_type": "markdown",
   "id": "17c40b96",
   "metadata": {},
   "source": [
    "### Plot neural net predictions"
   ]
  },
  {
   "cell_type": "code",
   "execution_count": null,
   "id": "93e661ce",
   "metadata": {},
   "outputs": [],
   "source": [
    "fig = plt.figure(figsize=(10, 10))\n",
    "m = Basemap(projection='lcc', resolution='c',\n",
    "            width=6E6, height=6E6,\n",
    "            lat_0=45, lon_0=-100, )\n",
    "m.drawcoastlines()\n",
    "m.drawmapboundary()\n",
    "m.drawcountries()\n",
    "parallels = np.arange(0., 81, 10.)\n",
    "meridians = np.arange(10., 351., 20.)\n",
    "\n",
    "m.scatter(array_test[:, 1], array_test[:, 2], latlon=True, c=y_predict_mlp, cmap='Purples',\n",
    "          vmin=0, vmax=10, s=5)\n",
    "\n",
    "plt.colorbar(label='predicted gusts (meter/sec)', extend='max')\n",
    "\n",
    "plt.show()"
   ]
  },
  {
   "cell_type": "markdown",
   "id": "0f04d87a",
   "metadata": {},
   "source": [
    "### Evaluating neural net predictions\n",
    "\n",
    "Root Mean Square Error, along with other interesting features of the predictions. \n",
    "\n",
    "Future: Add AUROC (Area Under the Curve of the Receiver Operating Characteristic)"
   ]
  },
  {
   "cell_type": "code",
   "execution_count": null,
   "id": "10ea0a18",
   "metadata": {
    "scrolled": false
   },
   "outputs": [],
   "source": [
    "print('RMSE:', np.sqrt(\n",
    "    metrics.mean_squared_error(y_test, y_predict_mlp)).round(4))\n",
    "print('Mean Absolute Error:', \n",
    "    metrics.mean_absolute_error(y_test, y_predict_mlp).round(4))\n",
    "print('R-Squared Score:', \n",
    "    metrics.r2_score(y_test, y_predict_mlp).round(4))\n",
    "\n",
    "print('Range of Training: ', np.min(y_train), ' to ', np.max(y_train))\n",
    "print('Range of Actual: ', np.min(y_test), ' to ', np.max(y_test))\n",
    "print('Range of Predictions: ', np.min(y_predict_mlp).round(4), ' to ', np.max(y_predict_mlp).round(4))"
   ]
  },
  {
   "cell_type": "markdown",
   "id": "b8eb26d1",
   "metadata": {},
   "source": [
    "### Loss Curve\n",
    "\n",
    "Loss value evaluated at the end of each training step."
   ]
  },
  {
   "cell_type": "code",
   "execution_count": null,
   "id": "6c7fb840",
   "metadata": {
    "scrolled": false
   },
   "outputs": [],
   "source": [
    "plt.plot(mlp.loss_curve_)\n",
    "plt.title(\"Loss Curve\", fontsize=14)\n",
    "plt.xlabel('Iterations')\n",
    "plt.ylabel('Cost')\n",
    "plt.show()\n",
    "print('Loss:', mlp.loss_.round(4))\n",
    "print('Best Loss:', mlp.best_loss_.round(4))\n",
    "print('# of Training Samples:', mlp.t_)\n",
    "print('# of Iterations:', mlp.n_iter_)\n",
    "print('# of Layers:', mlp.n_layers_)\n",
    "print('# of Outputs:', mlp.n_outputs_)\n",
    "print('Output Activation Function:', mlp.out_activation_)"
   ]
  },
  {
   "cell_type": "markdown",
   "id": "bcc531dc",
   "metadata": {},
   "source": [
    "### Coefficients\n",
    "The ith element in the list represents the weight matrix corresponding to layer i (scikit-learn docs).\n",
    "Plots the weights for each neuron of each layer."
   ]
  },
  {
   "cell_type": "code",
   "execution_count": null,
   "id": "da5461ff",
   "metadata": {
    "scrolled": true
   },
   "outputs": [],
   "source": [
    "plt.plot(mlp.coefs_[0])\n",
    "plt.title(\"Coefficients\", fontsize=14)\n",
    "plt.xlabel('Neuron')\n",
    "plt.ylabel('Weights')\n",
    "plt.show()"
   ]
  },
  {
   "cell_type": "markdown",
   "id": "1cf2df11",
   "metadata": {},
   "source": [
    "### Intercepts\n",
    "The ith element in the list represents the bias vector corresponding to layer i + 1 (scikit-learn docs).  "
   ]
  },
  {
   "cell_type": "code",
   "execution_count": null,
   "id": "702f455c",
   "metadata": {},
   "outputs": [],
   "source": [
    "plt.plot(mlp.intercepts_[0]) #Also 1, 2\n",
    "plt.title(\"Intercepts\", fontsize=14)\n",
    "plt.xlabel('Neuron')\n",
    "plt.ylabel('Bias')\n",
    "plt.show()"
   ]
  },
  {
   "cell_type": "markdown",
   "id": "f4aabd23",
   "metadata": {},
   "source": [
    "### Histograms\n",
    "\n",
    "Comparing the frequencies of wind-gust speeds between the METAR and the neural net."
   ]
  },
  {
   "cell_type": "code",
   "execution_count": null,
   "id": "f3a8bf8b",
   "metadata": {},
   "outputs": [],
   "source": [
    "hist_metar = plt.hist(y_test, bins=30, color='navy', range=[0,30], )\n",
    "plt.title(\"METAR Readings\")\n",
    "plt.ylim(0,200)"
   ]
  },
  {
   "cell_type": "code",
   "execution_count": null,
   "id": "1edb331c",
   "metadata": {},
   "outputs": [],
   "source": [
    "hist_nn = plt.hist(y_predict_mlp, bins=30, color='orange', range=[0,30])\n",
    "plt.title(\"Neural Net Predictions\")\n",
    "plt.ylim(0,200)"
   ]
  },
  {
   "cell_type": "code",
   "execution_count": null,
   "id": "f1918962",
   "metadata": {
    "scrolled": true
   },
   "outputs": [],
   "source": [
    "plt.scatter(array_test[:, 1:2], y_test,  color='navy', s=5, alpha=1)\n",
    "plt.scatter(array_test[:, 1:2], y_predict_mlp, color='orange', s=5, alpha=0.3)\n",
    "plt.title(\"Scatter Comparison\")\n",
    "plt.xlabel(\"Longitude\", size = 10)\n",
    "plt.ylabel(\"Latitude\", size = 10)"
   ]
  },
  {
   "cell_type": "markdown",
   "id": "5401290b",
   "metadata": {},
   "source": [
    "### Partial dependence plots\n",
    "I don't understand these. Possibly need different features. "
   ]
  },
  {
   "cell_type": "code",
   "execution_count": null,
   "id": "18fab6a0",
   "metadata": {
    "scrolled": true
   },
   "outputs": [],
   "source": [
    "features = [0, 1, 2, 3]\n",
    "\n",
    "display = plot_partial_dependence(\n",
    "      mlp, rescaled_X_train, features, kind=\"both\", subsample=50,\n",
    "      n_jobs=3, grid_resolution=20, random_state=0\n",
    ")"
   ]
  },
  {
   "cell_type": "markdown",
   "id": "7793c551",
   "metadata": {},
   "source": [
    "## Training neural net with only measured wind gusts\n",
    "Wind gusts of zero are not included in training. \n",
    "\n",
    "Uses the same variables as the above, so make sure to clear before re-running any lines outside of this section."
   ]
  },
  {
   "cell_type": "code",
   "execution_count": null,
   "id": "5650ff1d",
   "metadata": {},
   "outputs": [],
   "source": [
    "subset_met_df_train = met_df_train[met_df_train[\"MetWindGust\"]!=0]\n",
    "subset_met_df_train"
   ]
  },
  {
   "cell_type": "code",
   "execution_count": null,
   "id": "dfba8568",
   "metadata": {},
   "outputs": [],
   "source": [
    "array_train = subset_met_df_train.values\n",
    "X_train = array_train[:, 3:8]  # doesn't include lon, lat\n",
    "y_train = array_train[:, 0]\n",
    "scaler = StandardScaler()\n",
    "rescaled_X_train = (scaler.fit_transform(X_train))\n",
    "\n",
    "mlp = MLPRegressor(hidden_layer_sizes=(100, 50), activation='relu', solver='adam',\n",
    "                   alpha=0.0001, batch_size='auto', learning_rate='adaptive', learning_rate_init=0.001,\n",
    "                   power_t=0.5, max_iter=1500, shuffle=True, random_state=None, tol=0.0001, verbose=False,\n",
    "                   warm_start=False, momentum=0.9, nesterovs_momentum=True, early_stopping=False,\n",
    "                   validation_fraction=0.1, beta_1=0.9, beta_2=0.999, epsilon=1e-08)\n",
    "mlp = mlp.fit(rescaled_X_train, y_train)\n",
    "\n",
    "array_test = met_df_test.values\n",
    "X_test = array_test[:, 3:8]  # doesn't include lon, lat\n",
    "y_test = array_test[:, 0]\n",
    "rescaled_X_test = (scaler.fit_transform(X_test))\n",
    "\n",
    "y_predict_mlp = mlp.predict(rescaled_X_test)"
   ]
  },
  {
   "cell_type": "code",
   "execution_count": null,
   "id": "d4dabe2a",
   "metadata": {},
   "outputs": [],
   "source": [
    "fig = plt.figure(figsize=(10, 10))\n",
    "m = Basemap(projection='lcc', resolution='c',\n",
    "            width=6E6, height=6E6,\n",
    "            lat_0=45, lon_0=-100, )\n",
    "m.drawcoastlines()\n",
    "m.drawmapboundary()\n",
    "m.drawcountries()\n",
    "parallels = np.arange(0., 81, 10.)\n",
    "meridians = np.arange(10., 351., 20.)\n",
    "\n",
    "m.scatter(array_test[:, 1], array_test[:, 2], latlon=True, c=y_predict_mlp, cmap='Purples',\n",
    "          vmin=0, vmax=10, s=5)\n",
    "\n",
    "plt.colorbar(label='predicted gusts (meter/sec)', extend='max')\n",
    "\n",
    "plt.show()"
   ]
  },
  {
   "cell_type": "code",
   "execution_count": null,
   "id": "ac5909ff",
   "metadata": {},
   "outputs": [],
   "source": [
    "hist_nn = plt.hist(y_predict_mlp, bins=30, color='orange', range=[0,30])\n",
    "plt.title(\"Neural Net Predictions\")\n",
    "plt.ylim(0,1500)"
   ]
  },
  {
   "cell_type": "code",
   "execution_count": null,
   "id": "677fee3c",
   "metadata": {},
   "outputs": [],
   "source": [
    "plt.scatter(array_test[:, 1:2], y_test,  color='navy', s=5, alpha=1)\n",
    "plt.scatter(array_test[:, 1:2], y_predict_mlp, color='orange', s=5, alpha=0.3)\n",
    "plt.title(\"Scatter Comparison\")\n",
    "plt.xlabel(\"Longitude\", size = 10)\n",
    "plt.ylabel(\"Latitude\", size = 10)"
   ]
  },
  {
   "cell_type": "markdown",
   "id": "ae62042f",
   "metadata": {},
   "source": [
    "# Format HRRR data"
   ]
  },
  {
   "cell_type": "code",
   "execution_count": null,
   "id": "09bbd220",
   "metadata": {},
   "outputs": [],
   "source": [
    "hrrr_lon = Hrrr.variables['gridlon_0']\n",
    "hrrr_lat = Hrrr.variables['gridlat_0']\n",
    "hrrr_gust = Hrrr.variables['GUST_P0_L1_GLC0']\n",
    "\n",
    "hrrr_lon = np.reshape(hrrr_lon, 1905141)\n",
    "hrrr_lat = np.reshape(hrrr_lat, 1905141)\n",
    "hrrr_gust = np.reshape(hrrr_gust, 1905141)\n",
    "\n",
    "hrrr_lon = hrrr_lon[0:1903585:1009]\n",
    "hrrr_lat = hrrr_lat[0:1903585:1009]\n",
    "hrrr_gust = hrrr_gust[0:1903585:1009]"
   ]
  },
  {
   "cell_type": "markdown",
   "id": "d6790d2c",
   "metadata": {},
   "source": [
    "### HRRR Predictions"
   ]
  },
  {
   "cell_type": "code",
   "execution_count": null,
   "id": "1e100d3f",
   "metadata": {},
   "outputs": [],
   "source": [
    "fig = plt.figure(figsize=(8, 8))\n",
    "m = Basemap(projection='lcc', resolution='c',\n",
    "            width=8E6, height=8E6,\n",
    "            lat_0=45, lon_0=-100, )\n",
    "m.drawcoastlines()\n",
    "m.drawmapboundary()\n",
    "m.drawcountries()\n",
    "parallels = np.arange(0., 81, 10.)\n",
    "m.drawparallels(parallels, labels=[False, True, True, False])\n",
    "meridians = np.arange(10., 351., 20.)\n",
    "m.drawmeridians(meridians, labels=[True, False, False, True])\n",
    "\n",
    "m.scatter(hrrr_lon, hrrr_lat, latlon=True, c=hrrr_gust,\n",
    "          cmap='coolwarm', vmin=5, vmax=10, s=9)\n",
    "plt.show()"
   ]
  },
  {
   "cell_type": "code",
   "execution_count": null,
   "id": "f12c9ce0",
   "metadata": {},
   "outputs": [],
   "source": []
  }
 ],
 "metadata": {
  "kernelspec": {
   "display_name": "Python 3",
   "language": "python",
   "name": "python3"
  },
  "language_info": {
   "codemirror_mode": {
    "name": "ipython",
    "version": 3
   },
   "file_extension": ".py",
   "mimetype": "text/x-python",
   "name": "python",
   "nbconvert_exporter": "python",
   "pygments_lexer": "ipython3",
   "version": "3.8.10"
  }
 },
 "nbformat": 4,
 "nbformat_minor": 5
}
