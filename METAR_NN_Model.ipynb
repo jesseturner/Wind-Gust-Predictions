{
 "cells": [
  {
   "cell_type": "markdown",
   "id": "623ced75",
   "metadata": {},
   "source": [
    "## Import dependencies\n",
    "\n",
    "Make sure you are in the wind_gust conda environment\n",
    "\n",
    "Basemap is deprecated. Works in this environment because python was downgraded to 3.8.10. Cartopy provides similar features may be used in the future. "
   ]
  },
  {
   "cell_type": "code",
   "execution_count": null,
   "id": "5f68befb",
   "metadata": {},
   "outputs": [],
   "source": [
    "from netCDF4 import Dataset\n",
    "import numpy as np\n",
    "import pandas as pd\n",
    "import matplotlib.pyplot as plt\n",
    "import cartopy.crs as ccrs\n",
    "from cartopy import feature as cfeature\n",
    "from sklearn.model_selection import train_test_split, GridSearchCV\n",
    "from sklearn.preprocessing import StandardScaler\n",
    "from sklearn.neural_network import MLPRegressor\n",
    "from sklearn import metrics\n",
    "from sklearn.pipeline import Pipeline\n",
    "from sklearn.inspection import plot_partial_dependence\n",
    "import pickle"
   ]
  },
  {
   "cell_type": "markdown",
   "id": "3a06e802",
   "metadata": {},
   "source": [
    "### Open saved metar dataframe"
   ]
  },
  {
   "cell_type": "code",
   "execution_count": null,
   "id": "77e96281",
   "metadata": {},
   "outputs": [],
   "source": [
    "met_df = pd.read_pickle('metar_20190801_df.pkl')\n",
    "met_df_test = pd.read_pickle('metar_20200801_df.pkl')"
   ]
  },
  {
   "cell_type": "markdown",
   "id": "7b2da9c1",
   "metadata": {},
   "source": [
    "### Plot metar locations\n",
    "\n",
    "Uses the converted zeroes from the dataframe. "
   ]
  },
  {
   "cell_type": "code",
   "execution_count": null,
   "id": "46940939",
   "metadata": {},
   "outputs": [],
   "source": [
    "fig = plt.figure(figsize=(10, 10), facecolor='w')\n",
    "ax = fig.add_subplot(1, 1, 1, projection=ccrs.Mercator())\n",
    "ax.set_extent([-130, -60, 20, 55], crs=ccrs.PlateCarree())\n",
    "\n",
    "ax.add_feature(cfeature.COASTLINE)\n",
    "ax.add_feature(cfeature.BORDERS, linestyle=':')\n",
    "\n",
    "plt.scatter(met_df.Longitude, met_df.Latitude, c=met_df.MetWindGust,\n",
    "          cmap='Purples', vmin=0, vmax=10, s=5, transform=ccrs.PlateCarree())\n",
    "\n",
    "plt.colorbar(label='Measured gusts (meter/sec)', extend='max')\n",
    "plt.show()"
   ]
  },
  {
   "cell_type": "markdown",
   "id": "df4ef8ce",
   "metadata": {},
   "source": [
    "### Rescaling inputs, splitting train and test\n",
    "\n",
    "Want to still be able to plot the latitude and longitude. "
   ]
  },
  {
   "cell_type": "code",
   "execution_count": null,
   "id": "89626f7d",
   "metadata": {},
   "outputs": [],
   "source": [
    "array = met_df.values\n",
    "X = array[:, 1:8]\n",
    "y = array[:, 0]\n",
    "\n",
    "#--------Test Data--------\n",
    "array_test = met_df_test.values\n",
    "X_test = array_test[:, 1:8]\n",
    "y_test = array_test[:, 0]\n",
    "\n",
    "#X_train, X_test, y_train, y_test = train_test_split(X, y, test_size=0.33, random_state=42)\n",
    "X_train = X\n",
    "y_train = y\n",
    "\n",
    "\n",
    "scaler = StandardScaler()\n",
    "rescaled_X_train = (scaler.fit_transform(X_train[:, 3:8])) # doesn't include lon, lat\n",
    "rescaled_X_test = (scaler.fit_transform(X_test[:, 3:8])) # doesn't include lon, lat"
   ]
  },
  {
   "cell_type": "markdown",
   "id": "aa99ff82",
   "metadata": {},
   "source": [
    "### Training and running neural net\n",
    "\n",
    "Currently, predictions are made with the data of the same time. Inputs are scaled so they have comparable impact. Standard Scaler: z = (x - u)/s. \n",
    "\n",
    "u = mean, s = standard deviation.\n",
    "\n",
    "Two hidden layers: 100, 50. Used some rudimentary judging to come to this, testing and evaluating with RMSE. Read this for more info on the optimal amount: https://www.yourdatateacher.com/2021/05/10/how-many-neurons-for-a-neural-network/\n",
    "\n",
    "Activation function: Currently using rectified linear activation function (relu), has a flat-then linear shape, will allow for more dynamic range. Will output the input directly if it is positive, otherwise, it will output zero.\n",
    "\n",
    "Solver: adam. Uses back-propagration. \n",
    "\n",
    "Max Iterations: 1500. May be a little much. \n",
    "\n",
    "The model is saved as mlp_wind_gust."
   ]
  },
  {
   "cell_type": "code",
   "execution_count": null,
   "id": "1b6a4e21",
   "metadata": {},
   "outputs": [],
   "source": [
    "mlp = MLPRegressor(hidden_layer_sizes=(100, 50), activation='relu', solver='adam',\n",
    "                   alpha=0.0001, batch_size='auto', learning_rate='adaptive', learning_rate_init=0.001,\n",
    "                   power_t=0.5, max_iter=1500, shuffle=True, random_state=None, tol=0.0001, verbose=False,\n",
    "                   warm_start=False, momentum=0.9, nesterovs_momentum=True, early_stopping=False,\n",
    "                   validation_fraction=0.1, beta_1=0.9, beta_2=0.999, epsilon=1e-08)\n",
    "mlp = mlp.fit(rescaled_X_train, y_train)\n",
    "\n",
    "pickle.dump(mlp, open('mlp_wind_gust.pkl','wb'))\n",
    "\n",
    "y_predict_mlp = mlp.predict(rescaled_X_test)"
   ]
  },
  {
   "cell_type": "markdown",
   "id": "cfe0a82d",
   "metadata": {},
   "source": [
    "Rounding any predictions < 5 to zero, to match the metar process. Metar does not measure gusts less than 5 m/s."
   ]
  },
  {
   "cell_type": "code",
   "execution_count": null,
   "id": "a1b3289d",
   "metadata": {},
   "outputs": [],
   "source": [
    "for i in range(len(y_predict_mlp)):\n",
    "    if y_predict_mlp[i] < 5:\n",
    "        y_predict_mlp[i] = 0"
   ]
  },
  {
   "cell_type": "markdown",
   "id": "6b6e6daa",
   "metadata": {},
   "source": [
    "### Plot neural net predictions"
   ]
  },
  {
   "cell_type": "code",
   "execution_count": null,
   "id": "365ab8c7",
   "metadata": {},
   "outputs": [],
   "source": [
    "fig = plt.figure(figsize=(10, 10), facecolor='w')\n",
    "ax = fig.add_subplot(1, 1, 1, projection=ccrs.Mercator())\n",
    "ax.set_extent([-130, -60, 20, 55], crs=ccrs.PlateCarree())\n",
    "\n",
    "ax.add_feature(cfeature.COASTLINE)\n",
    "ax.add_feature(cfeature.BORDERS, linestyle=':')\n",
    "\n",
    "plt.scatter(X_test[:, 0], X_test[:, 1], c=y_predict_mlp, cmap='Purples',\n",
    "          vmin=0, vmax=10, s=5, transform=ccrs.PlateCarree())\n",
    "\n",
    "plt.colorbar(label='predicted gusts (meter/sec)', extend='max')\n",
    "plt.show()"
   ]
  },
  {
   "cell_type": "markdown",
   "id": "8fba9c3b",
   "metadata": {},
   "source": [
    "### Evaluating neural net predictions\n",
    "\n",
    "Root Mean Square Error, along with other interesting features of the predictions. \n",
    "\n",
    "Future: Add AUROC (Area Under the Curve of the Receiver Operating Characteristic)"
   ]
  },
  {
   "cell_type": "code",
   "execution_count": null,
   "id": "9cebf01e",
   "metadata": {
    "scrolled": false
   },
   "outputs": [],
   "source": [
    "print('RMSE:', np.sqrt(\n",
    "    metrics.mean_squared_error(y_test, y_predict_mlp)).round(4))\n",
    "print('Mean Absolute Error:', \n",
    "    metrics.mean_absolute_error(y_test, y_predict_mlp).round(4))\n",
    "print('R-Squared Score:', \n",
    "    metrics.r2_score(y_test, y_predict_mlp).round(4))\n",
    "\n",
    "print('Range of Training: ', np.min(y_train), ' to ', np.max(y_train))\n",
    "print('Range of Test: ', np.min(y_test), ' to ', np.max(y_test))\n",
    "print('Range of Predictions: ', np.min(y_predict_mlp).round(4), ' to ', np.max(y_predict_mlp).round(4))"
   ]
  },
  {
   "cell_type": "code",
   "execution_count": null,
   "id": "e3782e34",
   "metadata": {},
   "outputs": [],
   "source": [
    "plt.scatter(y_predict_mlp, y_test, c='Navy', s=20)\n",
    "plt.ylabel(\"Metar Gust (m/s)\", size = 10)\n",
    "plt.xlabel(\"Neural Network Gust (m/s)\", size = 10)"
   ]
  },
  {
   "cell_type": "markdown",
   "id": "509a8a28",
   "metadata": {},
   "source": [
    "### Loss Curve\n",
    "\n",
    "Loss value evaluated at the end of each training step."
   ]
  },
  {
   "cell_type": "code",
   "execution_count": null,
   "id": "0e565aa9",
   "metadata": {
    "scrolled": false
   },
   "outputs": [],
   "source": [
    "plt.plot(mlp.loss_curve_)\n",
    "plt.title(\"Loss Curve\", fontsize=14)\n",
    "plt.xlabel('Iterations')\n",
    "plt.ylabel('Cost')\n",
    "plt.show()\n",
    "print('Loss:', mlp.loss_.round(4))\n",
    "print('Best Loss:', mlp.best_loss_.round(4))\n",
    "print('# of Training Samples:', mlp.t_)\n",
    "print('# of Iterations:', mlp.n_iter_)\n",
    "print('# of Layers:', mlp.n_layers_)\n",
    "print('# of Outputs:', mlp.n_outputs_)\n",
    "print('Output Activation Function:', mlp.out_activation_)"
   ]
  },
  {
   "cell_type": "markdown",
   "id": "aaa6736d",
   "metadata": {},
   "source": [
    "### Coefficients\n",
    "The ith element in the list represents the weight matrix corresponding to layer i (scikit-learn docs).\n",
    "Plots the weights for each neuron of each layer."
   ]
  },
  {
   "cell_type": "code",
   "execution_count": null,
   "id": "ec68fe63",
   "metadata": {
    "scrolled": true
   },
   "outputs": [],
   "source": [
    "plt.plot(mlp.coefs_[0]) #Also 1, 2\n",
    "plt.title(\"Coefficients\", fontsize=14)\n",
    "plt.xlabel('Neuron')\n",
    "plt.ylabel('Weights')\n",
    "plt.show()"
   ]
  },
  {
   "cell_type": "markdown",
   "id": "42c5f216",
   "metadata": {},
   "source": [
    "### Intercepts\n",
    "The ith element in the list represents the bias vector corresponding to layer i + 1 (scikit-learn docs).  "
   ]
  },
  {
   "cell_type": "code",
   "execution_count": null,
   "id": "1e250c31",
   "metadata": {},
   "outputs": [],
   "source": [
    "plt.plot(mlp.intercepts_[0]) #Also 1, 2\n",
    "plt.title(\"Intercepts\", fontsize=14)\n",
    "plt.xlabel('Neuron')\n",
    "plt.ylabel('Bias')\n",
    "plt.show()"
   ]
  },
  {
   "cell_type": "markdown",
   "id": "281737a3",
   "metadata": {},
   "source": [
    "### Histograms\n",
    "\n",
    "Comparing the frequencies of wind-gust speeds between the METAR and the neural net."
   ]
  },
  {
   "cell_type": "code",
   "execution_count": null,
   "id": "042ac1d6",
   "metadata": {},
   "outputs": [],
   "source": [
    "hist_metar = plt.hist(y_test, bins=30, color='navy', range=[0,30], )\n",
    "plt.title(\"METAR Readings\")\n",
    "plt.ylim(0,300)"
   ]
  },
  {
   "cell_type": "code",
   "execution_count": null,
   "id": "d2c333c9",
   "metadata": {},
   "outputs": [],
   "source": [
    "hist_nn = plt.hist(y_predict_mlp, bins=30, color='orange', range=[0,30])\n",
    "plt.title(\"Neural Net Predictions\")\n",
    "plt.ylim(0,300)"
   ]
  },
  {
   "cell_type": "code",
   "execution_count": null,
   "id": "334bff94",
   "metadata": {
    "scrolled": true
   },
   "outputs": [],
   "source": [
    "plt.scatter(X_test[:, 0], y_test,  color='navy', s=5, alpha=1)\n",
    "plt.scatter(X_test[:, 0], y_predict_mlp, color='orange', s=5, alpha=0.3)\n",
    "plt.title(\"Scatter Comparison\")\n",
    "plt.xlabel(\"Longitude\", size = 10)\n",
    "plt.ylabel(\"Wind Gust (meter/sec)\", size = 10)"
   ]
  },
  {
   "cell_type": "markdown",
   "id": "35160585",
   "metadata": {},
   "source": [
    "### Partial dependence plots\n",
    "I don't understand these. Possibly need different features. "
   ]
  },
  {
   "cell_type": "code",
   "execution_count": null,
   "id": "e50494ec",
   "metadata": {
    "scrolled": false
   },
   "outputs": [],
   "source": [
    "# features = [0, 1, 2, 3]\n",
    "\n",
    "# display = plot_partial_dependence(\n",
    "#      mlp, rescaled_X_train, features, kind=\"both\", subsample=50,\n",
    "#      n_jobs=3, grid_resolution=20, random_state=0\n",
    "# )"
   ]
  },
  {
   "cell_type": "markdown",
   "id": "8eaf8636",
   "metadata": {},
   "source": [
    "## Training neural net with only measured wind gusts\n",
    "Wind gusts of zero are not included in training. \n",
    "\n",
    "Uses the same variables as the above, so make sure to clear before re-running any lines outside of this section."
   ]
  },
  {
   "cell_type": "code",
   "execution_count": null,
   "id": "cfac7363",
   "metadata": {},
   "outputs": [],
   "source": [
    "subset_met_df = met_df[met_df[\"MetWindGust\"]!=0]\n",
    "subset_met_df"
   ]
  },
  {
   "cell_type": "code",
   "execution_count": null,
   "id": "a35a4c5b",
   "metadata": {},
   "outputs": [],
   "source": [
    "array = subset_met_df.values\n",
    "X = array[:, 1:8]\n",
    "y = array[:, 0]\n",
    "\n",
    "X_train, X_test, y_train, y_test = train_test_split(X, y, test_size=0.33, random_state=42)\n",
    "\n",
    "scaler = StandardScaler()\n",
    "rescaled_X_train = (scaler.fit_transform(X_train[:, 3:8])) # doesn't include lon, lat\n",
    "rescaled_X_test = (scaler.fit_transform(X_test[:, 3:8])) # doesn't include lon, lat"
   ]
  },
  {
   "cell_type": "code",
   "execution_count": null,
   "id": "27d5b0c8",
   "metadata": {},
   "outputs": [],
   "source": [
    "mlp = MLPRegressor(hidden_layer_sizes=(100, 50), activation='relu', solver='adam',\n",
    "                   alpha=0.0001, batch_size='auto', learning_rate='adaptive', learning_rate_init=0.001,\n",
    "                   power_t=0.5, max_iter=1500, shuffle=True, random_state=None, tol=0.0001, verbose=False,\n",
    "                   warm_start=False, momentum=0.9, nesterovs_momentum=True, early_stopping=False,\n",
    "                   validation_fraction=0.1, beta_1=0.9, beta_2=0.999, epsilon=1e-08)\n",
    "mlp = mlp.fit(rescaled_X_train, y_train)\n",
    "\n",
    "y_predict_mlp = mlp.predict(rescaled_X_test)"
   ]
  },
  {
   "cell_type": "code",
   "execution_count": null,
   "id": "f58ff0af",
   "metadata": {},
   "outputs": [],
   "source": [
    "fig = plt.figure(figsize=(10, 10), facecolor='w')\n",
    "ax = fig.add_subplot(1, 1, 1, projection=ccrs.Mercator())\n",
    "ax.set_extent([-130, -60, 20, 55], crs=ccrs.PlateCarree())\n",
    "\n",
    "ax.add_feature(cfeature.COASTLINE)\n",
    "ax.add_feature(cfeature.BORDERS, linestyle=':')\n",
    "\n",
    "plt.scatter(X_test[:, 0], X_test[:, 1], c=y_predict_mlp, cmap='Purples',\n",
    "          vmin=0, vmax=10, s=5, transform=ccrs.PlateCarree())\n",
    "\n",
    "plt.colorbar(label='predicted gusts (meter/sec)', extend='max')\n",
    "plt.show()"
   ]
  },
  {
   "cell_type": "code",
   "execution_count": null,
   "id": "b2ca2a5b",
   "metadata": {},
   "outputs": [],
   "source": [
    "hist_nn = plt.hist(y_predict_mlp, bins=30, color='orange', range=[0,30])\n",
    "plt.title(\"Neural Net Predictions\")\n",
    "plt.ylim(0,200)"
   ]
  },
  {
   "cell_type": "code",
   "execution_count": null,
   "id": "a7e29056",
   "metadata": {},
   "outputs": [],
   "source": [
    "plt.scatter(X_test[:, 0], y_test,  color='navy', s=5, alpha=1)\n",
    "plt.scatter(X_test[:, 0], y_predict_mlp, color='orange', s=5, alpha=0.3)\n",
    "plt.title(\"Scatter Comparison\")\n",
    "plt.xlabel(\"Longitude\", size = 10)\n",
    "plt.ylabel(\"Wind Gust (meter/sec)\", size = 10)"
   ]
  },
  {
   "cell_type": "code",
   "execution_count": null,
   "id": "459a7097",
   "metadata": {},
   "outputs": [],
   "source": []
  }
 ],
 "metadata": {
  "kernelspec": {
   "display_name": "Python 3",
   "language": "python",
   "name": "python3"
  },
  "language_info": {
   "codemirror_mode": {
    "name": "ipython",
    "version": 3
   },
   "file_extension": ".py",
   "mimetype": "text/x-python",
   "name": "python",
   "nbconvert_exporter": "python",
   "pygments_lexer": "ipython3",
   "version": "3.8.10"
  }
 },
 "nbformat": 4,
 "nbformat_minor": 5
}
