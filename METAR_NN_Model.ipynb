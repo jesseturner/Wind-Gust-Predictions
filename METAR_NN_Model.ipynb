{
 "cells": [
  {
   "cell_type": "markdown",
   "id": "3f0e37b5",
   "metadata": {},
   "source": [
    "## Import dependencies\n",
    "\n",
    "Make sure you are in the wind_gust conda environment\n",
    "\n",
    "Basemap is deprecated. Works in this environment because python was downgraded to 3.8.10. Cartopy provides similar features may be used in the future. "
   ]
  },
  {
   "cell_type": "code",
   "execution_count": null,
   "id": "12ea2887",
   "metadata": {},
   "outputs": [],
   "source": [
    "from netCDF4 import Dataset\n",
    "import numpy as np\n",
    "import pandas as pd\n",
    "import matplotlib.pyplot as plt\n",
    "from mpl_toolkits.basemap import Basemap\n",
    "from sklearn.model_selection import train_test_split, GridSearchCV\n",
    "from sklearn.preprocessing import StandardScaler\n",
    "from sklearn.neural_network import MLPRegressor\n",
    "from sklearn import metrics\n",
    "from sklearn.pipeline import Pipeline\n",
    "from sklearn.inspection import plot_partial_dependence\n",
    "import pickle"
   ]
  },
  {
   "cell_type": "markdown",
   "id": "2cbf5f95",
   "metadata": {},
   "source": [
    "## Sample data\n",
    "\n",
    "More data will be added here in the future, spanning different seasons. "
   ]
  },
  {
   "cell_type": "code",
   "execution_count": null,
   "id": "eb28e880",
   "metadata": {},
   "outputs": [],
   "source": [
    "Met_20170701 = Dataset(  # Metar Training Data\n",
    "    '/Users/jesseturner/Documents/Wind_Gust_Prediction/Gust_data/20170701_0000')\n",
    "Met_20180613 = Dataset(  # Metar Training Data\n",
    "    '/Users/jesseturner/Documents/Wind_Gust_Prediction/Gust_data/20180613_0000')\n",
    "Met_20190801 = Dataset( # Metar Testing Data\n",
    "    '/Users/jesseturner/Documents/Wind_Gust_Prediction/Gust_data/2019_08_01/20190801_0300')\n",
    "Hrrr = Dataset(  # HRRR\n",
    "    '/Users/jesseturner/Documents/Wind_Gust_Prediction/Gust_data/extract2Da.esrl_hrrr.201718201001300.nc')\n",
    "\n",
    "#Met_20170701.variables\n",
    "#Met_20170701.variables['windGust']\n",
    "#Hrrr.variables['GUST_P0_L1_GLC0']"
   ]
  },
  {
   "cell_type": "markdown",
   "id": "35ccfc9b",
   "metadata": {},
   "source": [
    "# Format metar data"
   ]
  },
  {
   "cell_type": "markdown",
   "id": "8006439b",
   "metadata": {},
   "source": [
    "### Compile and crop metar data to the continental US\n",
    "\n",
    "There is likely a more efficient way to do this. The warning of \"converting a masked element to nan\" is currently expected, but may be changed to do manually in the future. "
   ]
  },
  {
   "cell_type": "code",
   "execution_count": null,
   "id": "c87b2790",
   "metadata": {
    "scrolled": false
   },
   "outputs": [],
   "source": [
    "met_stationName_1 = Met_20170701.variables['stationName']\n",
    "met_locationName_1 = Met_20170701.variables['locationName']\n",
    "met_qct_1 = Met_20170701.variables['QCT']\n",
    "met_lon_1 = Met_20170701.variables['longitude']\n",
    "met_lat_1 = Met_20170701.variables['latitude']\n",
    "met_elevation_1 = Met_20170701.variables['elevation']\n",
    "met_timeObs_1 = Met_20170701.variables['timeObs']\n",
    "met_skyCover_1 = Met_20170701.variables['skyCover']\n",
    "met_seaLevelPress_1 = Met_20170701.variables['seaLevelPress']\n",
    "met_altimeter_1 = Met_20170701.variables['altimeter']\n",
    "met_pressChange3Hour_1 = Met_20170701.variables['pressChange3Hour']\n",
    "\n",
    "met_gust_1 = Met_20170701.variables['windGust']\n",
    "met_temp_1 = Met_20170701.variables['temperature']\n",
    "met_windspeed_1 = Met_20170701.variables['windSpeed']\n",
    "met_winddir_1 = Met_20170701.variables['windDir']\n",
    "met_press_1 = Met_20170701.variables['seaLevelPress']\n",
    "\n",
    "met_gust_2 = Met_20180613.variables['windGust']\n",
    "met_lon_2 = Met_20180613.variables['longitude']\n",
    "met_lat_2 = Met_20180613.variables['latitude']\n",
    "met_temp_2 = Met_20180613.variables['temperature']\n",
    "met_windspeed_2 = Met_20180613.variables['windSpeed']\n",
    "met_winddir_2 = Met_20180613.variables['windDir']\n",
    "met_press_2 = Met_20180613.variables['seaLevelPress']\n",
    "\n",
    "#--------Test Data--------\n",
    "met_gust_test = Met_20190801.variables['windGust']\n",
    "met_lon_test = Met_20190801.variables['longitude']\n",
    "met_lat_test = Met_20190801.variables['latitude']\n",
    "met_temp_test = Met_20190801.variables['temperature']\n",
    "met_windspeed_test = Met_20190801.variables['windSpeed']\n",
    "met_winddir_test = Met_20190801.variables['windDir']\n",
    "met_press_test = Met_20190801.variables['seaLevelPress']\n",
    "\n",
    "top = 49.3457868  # north lat\n",
    "left = -124.7844079  # west lon\n",
    "right = -66.9513812  # east lon\n",
    "bottom = 24.7433195  # south lat\n",
    "\n",
    "cell = []\n",
    "for g, lon, lat, t, ws, wd, p in zip(met_gust_1, met_lon_1, met_lat_1, \n",
    "                                     met_temp_1, met_windspeed_1, met_winddir_1, met_press_1):\n",
    "    if left <= lon <= right and bottom <= lat <= top:\n",
    "        cell.append((g, lon, lat, t, ws, wd, p))\n",
    "\n",
    "for g, lon, lat, t, ws, wd, p in zip(met_gust_2, met_lon_2, met_lat_2, \n",
    "                                     met_temp_2, met_windspeed_2, met_winddir_2, met_press_2):\n",
    "    if left <= lon <= right and bottom <= lat <= top:\n",
    "        cell.append((g, lon, lat, t, ws, wd, p))\n",
    "\n",
    "met_pos = np.asarray(cell)\n",
    "\n",
    "#--------Test Data--------\n",
    "cell_test = []\n",
    "for g, lon, lat, t, ws, wd, p in zip(met_gust_test, met_lon_test, met_lat_test, \n",
    "                                     met_temp_test, met_windspeed_test, met_winddir_test, met_press_test):\n",
    "    if left <= lon <= right and bottom <= lat <= top:\n",
    "        cell_test.append((g, lon, lat, t, ws, wd, p))\n",
    "\n",
    "met_pos_test = np.asarray(cell_test)"
   ]
  },
  {
   "cell_type": "markdown",
   "id": "f94f93f9",
   "metadata": {},
   "source": [
    "### Convert metar data to dataframe"
   ]
  },
  {
   "cell_type": "code",
   "execution_count": null,
   "id": "c0d8d2e8",
   "metadata": {},
   "outputs": [],
   "source": [
    "met_df = pd.DataFrame(\n",
    "    {'MetWindGust': met_pos[:, 0],\n",
    "     'Longitude': met_pos[:, 1],\n",
    "     'Latitude': met_pos[:, 2],\n",
    "     'Temperature': met_pos[:, 3],\n",
    "     'WindSpeed': met_pos[:, 4],\n",
    "     'WindDirection': met_pos[:, 5],\n",
    "     'Pressure': met_pos[:, 6]})\n",
    "\n",
    "met_df = met_df.round(4)\n",
    "met_df = met_df.replace(np.NaN, 0)\n",
    "pd.set_option('display.min_rows', 100)\n",
    "met_df\n",
    "\n",
    "#--------Test Data--------\n",
    "met_df_test = pd.DataFrame(\n",
    "    {'MetWindGust': met_pos_test[:, 0],\n",
    "     'Longitude': met_pos_test[:, 1],\n",
    "     'Latitude': met_pos_test[:, 2],\n",
    "     'Temperature': met_pos_test[:, 3],\n",
    "     'WindSpeed': met_pos_test[:, 4],\n",
    "     'WindDirection': met_pos_test[:, 5],\n",
    "     'Pressure': met_pos_test[:, 6]})\n",
    "\n",
    "met_df_test = met_df_test.round(4)\n",
    "met_df_test = met_df_test.replace(np.NaN, 0)"
   ]
  },
  {
   "cell_type": "markdown",
   "id": "3c0ee1f4",
   "metadata": {},
   "source": [
    "### Plot metar locations\n",
    "\n",
    "Uses the converted zeroes from the dataframe. "
   ]
  },
  {
   "cell_type": "code",
   "execution_count": null,
   "id": "4ce74890",
   "metadata": {
    "scrolled": false
   },
   "outputs": [],
   "source": [
    "fig = plt.figure(figsize=(10, 10))\n",
    "m = Basemap(projection='lcc', resolution='c',\n",
    "            width=6E6, height=6E6,\n",
    "            lat_0=45, lon_0=-100, )\n",
    "m.drawcoastlines()\n",
    "m.drawmapboundary()\n",
    "m.drawcountries()\n",
    "parallels = np.arange(0., 81, 10.)\n",
    "meridians = np.arange(10., 351., 20.)\n",
    "\n",
    "m.scatter(met_df.Longitude, met_df.Latitude, latlon=True, c=met_df.MetWindGust,\n",
    "          cmap='Purples', vmin=0, vmax=10, s=5)\n",
    "\n",
    "plt.colorbar(label='Measured gusts (meter/sec)', extend='max')\n",
    "\n",
    "plt.show()"
   ]
  },
  {
   "cell_type": "markdown",
   "id": "6aae41a6",
   "metadata": {},
   "source": [
    "### Rescaling inputs, splitting train and test\n",
    "\n",
    "Want to still be able to plot the latitude and longitude. "
   ]
  },
  {
   "cell_type": "code",
   "execution_count": null,
   "id": "afe8f2a0",
   "metadata": {},
   "outputs": [],
   "source": [
    "array = met_df.values\n",
    "X = array[:, 1:8]\n",
    "y = array[:, 0]\n",
    "\n",
    "#--------Test Data--------\n",
    "array_test = met_df_test.values\n",
    "X_test = array_test[:, 1:8]\n",
    "y_test = array_test[:, 0]\n",
    "\n",
    "#X_train, X_test, y_train, y_test = train_test_split(X, y, test_size=0.33, random_state=42)\n",
    "X_train = X\n",
    "y_train = y\n",
    "\n",
    "\n",
    "scaler = StandardScaler()\n",
    "rescaled_X_train = (scaler.fit_transform(X_train[:, 3:8])) # doesn't include lon, lat\n",
    "rescaled_X_test = (scaler.fit_transform(X_test[:, 3:8])) # doesn't include lon, lat"
   ]
  },
  {
   "cell_type": "markdown",
   "id": "2c1ab333",
   "metadata": {},
   "source": [
    "### Training and running neural net\n",
    "\n",
    "Currently, predictions are made with the data of the same time. Inputs are scaled so they have comparable impact. Standard Scaler: z = (x - u)/s. \n",
    "\n",
    "u = mean, s = standard deviation.\n",
    "\n",
    "Two hidden layers: 100, 50. Used some rudimentary judging to come to this, testing and evaluating with RMSE. Read this for more info on the optimal amount: https://www.yourdatateacher.com/2021/05/10/how-many-neurons-for-a-neural-network/\n",
    "\n",
    "Activation function: Currently using rectified linear activation function (relu), has a flat-then linear shape, will allow for more dynamic range. Will output the input directly if it is positive, otherwise, it will output zero.\n",
    "\n",
    "Solver: adam. Uses back-propagration. \n",
    "\n",
    "Max Iterations: 1500. May be a little much. \n",
    "\n",
    "The model is saved as mlp_wind_gust."
   ]
  },
  {
   "cell_type": "code",
   "execution_count": null,
   "id": "6cb85a5f",
   "metadata": {},
   "outputs": [],
   "source": [
    "mlp = MLPRegressor(hidden_layer_sizes=(100, 50), activation='relu', solver='adam',\n",
    "                   alpha=0.0001, batch_size='auto', learning_rate='adaptive', learning_rate_init=0.001,\n",
    "                   power_t=0.5, max_iter=1500, shuffle=True, random_state=None, tol=0.0001, verbose=False,\n",
    "                   warm_start=False, momentum=0.9, nesterovs_momentum=True, early_stopping=False,\n",
    "                   validation_fraction=0.1, beta_1=0.9, beta_2=0.999, epsilon=1e-08)\n",
    "mlp = mlp.fit(rescaled_X_train, y_train)\n",
    "\n",
    "pickle.dump(mlp, open('mlp_wind_gust.pkl','wb'))\n",
    "\n",
    "y_predict_mlp = mlp.predict(rescaled_X_test)"
   ]
  },
  {
   "cell_type": "markdown",
   "id": "3ada9767",
   "metadata": {},
   "source": [
    "Rounding any predictions < 5 to zero, to match the metar process. Metar does not measure gusts less than 5 m/s."
   ]
  },
  {
   "cell_type": "code",
   "execution_count": null,
   "id": "b622f7d2",
   "metadata": {},
   "outputs": [],
   "source": [
    "for i in range(len(y_predict_mlp)):\n",
    "    if y_predict_mlp[i] < 5:\n",
    "        y_predict_mlp[i] = 0"
   ]
  },
  {
   "cell_type": "markdown",
   "id": "37ac1741",
   "metadata": {},
   "source": [
    "### Plot neural net predictions"
   ]
  },
  {
   "cell_type": "code",
   "execution_count": null,
   "id": "1b8d2d98",
   "metadata": {
    "scrolled": false
   },
   "outputs": [],
   "source": [
    "fig = plt.figure(figsize=(10, 10))\n",
    "m = Basemap(projection='lcc', resolution='c',\n",
    "            width=6E6, height=6E6,\n",
    "            lat_0=45, lon_0=-100, )\n",
    "m.drawcoastlines()\n",
    "m.drawmapboundary()\n",
    "m.drawcountries()\n",
    "parallels = np.arange(0., 81, 10.)\n",
    "meridians = np.arange(10., 351., 20.)\n",
    "\n",
    "m.scatter(X_test[:, 0], X_test[:, 1], latlon=True, c=y_predict_mlp, cmap='Purples',\n",
    "          vmin=0, vmax=10, s=5)\n",
    "\n",
    "plt.colorbar(label='predicted gusts (meter/sec)', extend='max')\n",
    "\n",
    "plt.show()"
   ]
  },
  {
   "cell_type": "markdown",
   "id": "cba7daed",
   "metadata": {},
   "source": [
    "### Evaluating neural net predictions\n",
    "\n",
    "Root Mean Square Error, along with other interesting features of the predictions. \n",
    "\n",
    "Future: Add AUROC (Area Under the Curve of the Receiver Operating Characteristic)"
   ]
  },
  {
   "cell_type": "code",
   "execution_count": null,
   "id": "5c49e622",
   "metadata": {
    "scrolled": false
   },
   "outputs": [],
   "source": [
    "print('RMSE:', np.sqrt(\n",
    "    metrics.mean_squared_error(y_test, y_predict_mlp)).round(4))\n",
    "print('Mean Absolute Error:', \n",
    "    metrics.mean_absolute_error(y_test, y_predict_mlp).round(4))\n",
    "print('R-Squared Score:', \n",
    "    metrics.r2_score(y_test, y_predict_mlp).round(4))\n",
    "\n",
    "print('Range of Training: ', np.min(y_train), ' to ', np.max(y_train))\n",
    "print('Range of Test: ', np.min(y_test), ' to ', np.max(y_test))\n",
    "print('Range of Predictions: ', np.min(y_predict_mlp).round(4), ' to ', np.max(y_predict_mlp).round(4))"
   ]
  },
  {
   "cell_type": "code",
   "execution_count": null,
   "id": "832151c5",
   "metadata": {},
   "outputs": [],
   "source": [
    "plt.scatter(y_predict_mlp, y_test, c='Navy', s=20)\n",
    "plt.ylabel(\"Metar Gust (m/s)\", size = 10)\n",
    "plt.xlabel(\"Neural Network Gust (m/s)\", size = 10)"
   ]
  },
  {
   "cell_type": "markdown",
   "id": "ea543156",
   "metadata": {},
   "source": [
    "### Loss Curve\n",
    "\n",
    "Loss value evaluated at the end of each training step."
   ]
  },
  {
   "cell_type": "code",
   "execution_count": null,
   "id": "b68ca078",
   "metadata": {
    "scrolled": false
   },
   "outputs": [],
   "source": [
    "plt.plot(mlp.loss_curve_)\n",
    "plt.title(\"Loss Curve\", fontsize=14)\n",
    "plt.xlabel('Iterations')\n",
    "plt.ylabel('Cost')\n",
    "plt.show()\n",
    "print('Loss:', mlp.loss_.round(4))\n",
    "print('Best Loss:', mlp.best_loss_.round(4))\n",
    "print('# of Training Samples:', mlp.t_)\n",
    "print('# of Iterations:', mlp.n_iter_)\n",
    "print('# of Layers:', mlp.n_layers_)\n",
    "print('# of Outputs:', mlp.n_outputs_)\n",
    "print('Output Activation Function:', mlp.out_activation_)"
   ]
  },
  {
   "cell_type": "markdown",
   "id": "e937c4e8",
   "metadata": {},
   "source": [
    "### Coefficients\n",
    "The ith element in the list represents the weight matrix corresponding to layer i (scikit-learn docs).\n",
    "Plots the weights for each neuron of each layer."
   ]
  },
  {
   "cell_type": "code",
   "execution_count": null,
   "id": "62601012",
   "metadata": {
    "scrolled": true
   },
   "outputs": [],
   "source": [
    "plt.plot(mlp.coefs_[0]) #Also 1, 2\n",
    "plt.title(\"Coefficients\", fontsize=14)\n",
    "plt.xlabel('Neuron')\n",
    "plt.ylabel('Weights')\n",
    "plt.show()"
   ]
  },
  {
   "cell_type": "markdown",
   "id": "cc1ed852",
   "metadata": {},
   "source": [
    "### Intercepts\n",
    "The ith element in the list represents the bias vector corresponding to layer i + 1 (scikit-learn docs).  "
   ]
  },
  {
   "cell_type": "code",
   "execution_count": null,
   "id": "4c216cb9",
   "metadata": {},
   "outputs": [],
   "source": [
    "plt.plot(mlp.intercepts_[0]) #Also 1, 2\n",
    "plt.title(\"Intercepts\", fontsize=14)\n",
    "plt.xlabel('Neuron')\n",
    "plt.ylabel('Bias')\n",
    "plt.show()"
   ]
  },
  {
   "cell_type": "markdown",
   "id": "e1debf4d",
   "metadata": {},
   "source": [
    "### Histograms\n",
    "\n",
    "Comparing the frequencies of wind-gust speeds between the METAR and the neural net."
   ]
  },
  {
   "cell_type": "code",
   "execution_count": null,
   "id": "429e0b75",
   "metadata": {},
   "outputs": [],
   "source": [
    "hist_metar = plt.hist(y_test, bins=30, color='navy', range=[0,30], )\n",
    "plt.title(\"METAR Readings\")\n",
    "plt.ylim(0,300)"
   ]
  },
  {
   "cell_type": "code",
   "execution_count": null,
   "id": "88fbe939",
   "metadata": {},
   "outputs": [],
   "source": [
    "hist_nn = plt.hist(y_predict_mlp, bins=30, color='orange', range=[0,30])\n",
    "plt.title(\"Neural Net Predictions\")\n",
    "plt.ylim(0,300)"
   ]
  },
  {
   "cell_type": "code",
   "execution_count": null,
   "id": "62d32267",
   "metadata": {
    "scrolled": true
   },
   "outputs": [],
   "source": [
    "plt.scatter(X_test[:, 0], y_test,  color='navy', s=5, alpha=1)\n",
    "plt.scatter(X_test[:, 0], y_predict_mlp, color='orange', s=5, alpha=0.3)\n",
    "plt.title(\"Scatter Comparison\")\n",
    "plt.xlabel(\"Longitude\", size = 10)\n",
    "plt.ylabel(\"Wind Gust (meter/sec)\", size = 10)"
   ]
  },
  {
   "cell_type": "markdown",
   "id": "ae962acb",
   "metadata": {},
   "source": [
    "### Partial dependence plots\n",
    "I don't understand these. Possibly need different features. "
   ]
  },
  {
   "cell_type": "code",
   "execution_count": null,
   "id": "c25129c7",
   "metadata": {
    "scrolled": false
   },
   "outputs": [],
   "source": [
    "# features = [0, 1, 2, 3]\n",
    "\n",
    "# display = plot_partial_dependence(\n",
    "#      mlp, rescaled_X_train, features, kind=\"both\", subsample=50,\n",
    "#      n_jobs=3, grid_resolution=20, random_state=0\n",
    "# )"
   ]
  },
  {
   "cell_type": "markdown",
   "id": "f54c15ab",
   "metadata": {},
   "source": [
    "## Training neural net with only measured wind gusts\n",
    "Wind gusts of zero are not included in training. \n",
    "\n",
    "Uses the same variables as the above, so make sure to clear before re-running any lines outside of this section."
   ]
  },
  {
   "cell_type": "code",
   "execution_count": null,
   "id": "ba7f6667",
   "metadata": {},
   "outputs": [],
   "source": [
    "subset_met_df = met_df[met_df[\"MetWindGust\"]!=0]\n",
    "subset_met_df"
   ]
  },
  {
   "cell_type": "code",
   "execution_count": null,
   "id": "ba50e9a6",
   "metadata": {},
   "outputs": [],
   "source": [
    "array = subset_met_df.values\n",
    "X = array[:, 1:8]\n",
    "y = array[:, 0]\n",
    "\n",
    "X_train, X_test, y_train, y_test = train_test_split(X, y, test_size=0.33, random_state=42)\n",
    "\n",
    "scaler = StandardScaler()\n",
    "rescaled_X_train = (scaler.fit_transform(X_train[:, 3:8])) # doesn't include lon, lat\n",
    "rescaled_X_test = (scaler.fit_transform(X_test[:, 3:8])) # doesn't include lon, lat"
   ]
  },
  {
   "cell_type": "code",
   "execution_count": null,
   "id": "745dfeb4",
   "metadata": {},
   "outputs": [],
   "source": [
    "mlp = MLPRegressor(hidden_layer_sizes=(100, 50), activation='relu', solver='adam',\n",
    "                   alpha=0.0001, batch_size='auto', learning_rate='adaptive', learning_rate_init=0.001,\n",
    "                   power_t=0.5, max_iter=1500, shuffle=True, random_state=None, tol=0.0001, verbose=False,\n",
    "                   warm_start=False, momentum=0.9, nesterovs_momentum=True, early_stopping=False,\n",
    "                   validation_fraction=0.1, beta_1=0.9, beta_2=0.999, epsilon=1e-08)\n",
    "mlp = mlp.fit(rescaled_X_train, y_train)\n",
    "\n",
    "y_predict_mlp = mlp.predict(rescaled_X_test)"
   ]
  },
  {
   "cell_type": "code",
   "execution_count": null,
   "id": "bfd550fe",
   "metadata": {},
   "outputs": [],
   "source": [
    "fig = plt.figure(figsize=(10, 10))\n",
    "m = Basemap(projection='lcc', resolution='c',\n",
    "            width=6E6, height=6E6,\n",
    "            lat_0=45, lon_0=-100, )\n",
    "m.drawcoastlines()\n",
    "m.drawmapboundary()\n",
    "m.drawcountries()\n",
    "parallels = np.arange(0., 81, 10.)\n",
    "meridians = np.arange(10., 351., 20.)\n",
    "\n",
    "m.scatter(X_test[:, 0], X_test[:, 1], latlon=True, c=y_predict_mlp, cmap='Purples',\n",
    "          vmin=0, vmax=10, s=5)\n",
    "\n",
    "plt.colorbar(label='predicted gusts (meter/sec)', extend='max')\n",
    "\n",
    "plt.show()"
   ]
  },
  {
   "cell_type": "code",
   "execution_count": null,
   "id": "94ba64b8",
   "metadata": {},
   "outputs": [],
   "source": [
    "hist_nn = plt.hist(y_predict_mlp, bins=30, color='orange', range=[0,30])\n",
    "plt.title(\"Neural Net Predictions\")\n",
    "plt.ylim(0,200)"
   ]
  },
  {
   "cell_type": "code",
   "execution_count": null,
   "id": "f52fa83e",
   "metadata": {},
   "outputs": [],
   "source": [
    "plt.scatter(X_test[:, 0], y_test,  color='navy', s=5, alpha=1)\n",
    "plt.scatter(X_test[:, 0], y_predict_mlp, color='orange', s=5, alpha=0.3)\n",
    "plt.title(\"Scatter Comparison\")\n",
    "plt.xlabel(\"Longitude\", size = 10)\n",
    "plt.ylabel(\"Wind Gust (meter/sec)\", size = 10)"
   ]
  },
  {
   "cell_type": "markdown",
   "id": "abef301c",
   "metadata": {},
   "source": [
    "# Format HRRR data"
   ]
  },
  {
   "cell_type": "code",
   "execution_count": null,
   "id": "50568dc2",
   "metadata": {},
   "outputs": [],
   "source": [
    "hrrr_lon = Hrrr.variables['gridlon_0']\n",
    "hrrr_lat = Hrrr.variables['gridlat_0']\n",
    "hrrr_gust = Hrrr.variables['GUST_P0_L1_GLC0']\n",
    "\n",
    "hrrr_lon = np.reshape(hrrr_lon, 1905141)\n",
    "hrrr_lat = np.reshape(hrrr_lat, 1905141)\n",
    "hrrr_gust = np.reshape(hrrr_gust, 1905141)\n",
    "\n",
    "hrrr_lon = hrrr_lon[0:1903585:1009]\n",
    "hrrr_lat = hrrr_lat[0:1903585:1009]\n",
    "hrrr_gust = hrrr_gust[0:1903585:1009]"
   ]
  },
  {
   "cell_type": "markdown",
   "id": "63a74a0d",
   "metadata": {},
   "source": [
    "### HRRR Predictions"
   ]
  },
  {
   "cell_type": "code",
   "execution_count": null,
   "id": "e623b5e4",
   "metadata": {},
   "outputs": [],
   "source": [
    "fig = plt.figure(figsize=(8, 8))\n",
    "m = Basemap(projection='lcc', resolution='c',\n",
    "            width=8E6, height=8E6,\n",
    "            lat_0=45, lon_0=-100, )\n",
    "m.drawcoastlines()\n",
    "m.drawmapboundary()\n",
    "m.drawcountries()\n",
    "parallels = np.arange(0., 81, 10.)\n",
    "m.drawparallels(parallels, labels=[False, True, True, False])\n",
    "meridians = np.arange(10., 351., 20.)\n",
    "m.drawmeridians(meridians, labels=[True, False, False, True])\n",
    "\n",
    "m.scatter(hrrr_lon, hrrr_lat, latlon=True, c=hrrr_gust,\n",
    "          cmap='coolwarm', vmin=5, vmax=10, s=9)\n",
    "plt.show()"
   ]
  },
  {
   "cell_type": "code",
   "execution_count": null,
   "id": "ec929a35",
   "metadata": {},
   "outputs": [],
   "source": []
  }
 ],
 "metadata": {
  "kernelspec": {
   "display_name": "Python 3",
   "language": "python",
   "name": "python3"
  },
  "language_info": {
   "codemirror_mode": {
    "name": "ipython",
    "version": 3
   },
   "file_extension": ".py",
   "mimetype": "text/x-python",
   "name": "python",
   "nbconvert_exporter": "python",
   "pygments_lexer": "ipython3",
   "version": "3.8.10"
  }
 },
 "nbformat": 4,
 "nbformat_minor": 5
}
