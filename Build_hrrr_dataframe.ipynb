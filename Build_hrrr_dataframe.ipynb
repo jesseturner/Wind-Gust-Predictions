{
 "cells": [
  {
   "cell_type": "code",
   "execution_count": 5,
   "id": "dcf50b7e",
   "metadata": {},
   "outputs": [],
   "source": [
    "import pygrib\n",
    "import numpy as np\n",
    "import pandas as pd"
   ]
  },
  {
   "cell_type": "markdown",
   "id": "ab56b197",
   "metadata": {},
   "source": [
    "### Load data"
   ]
  },
  {
   "cell_type": "code",
   "execution_count": 6,
   "id": "315cbe4d",
   "metadata": {},
   "outputs": [],
   "source": [
    "Hrrr_1 = pygrib.open(  # Aug 1 2019 0300\n",
    "    '/Users/jesseturner/Documents/Wind_Gust_Prediction/Gust_data/2019_08_01_0300/csu_econ.1921300000300.grib2')\n",
    "Hrrr_2 = pygrib.open(  # Nov 1 2019 0600\n",
    "    '/Users/jesseturner/Documents/Wind_Gust_Prediction/Gust_data/2019_11_01_0600/csu_econ.1930503000300.grib2')\n",
    "Hrrr_3 = pygrib.open(  # Feb 1 2019 0900\n",
    "    '/Users/jesseturner/Documents/Wind_Gust_Prediction/Gust_data/2020_02_01_0900/csu_econ.2003206000300.grib2')\n",
    "Hrrr_4 = pygrib.open(  # May 1 2019 1200\n",
    "    '/Users/jesseturner/Documents/Wind_Gust_Prediction/Gust_data/2020_05_01_1200/csu_econ.2012209000300.grib2')\n",
    "Hrrr_5 = pygrib.open(  # Aug 1 2019 1500\n",
    "    '/Users/jesseturner/Documents/Wind_Gust_Prediction/Gust_data/2020_08_01_1500/csu_econ.2021412000300.grib2')"
   ]
  },
  {
   "cell_type": "markdown",
   "id": "a9036e41",
   "metadata": {},
   "source": [
    "### Processing HRRR data\n",
    "Just replace the inputs (HRRR_#) and rerun. Other HRRR fields will be used for training the neural network. "
   ]
  },
  {
   "cell_type": "code",
   "execution_count": 7,
   "id": "0736d324",
   "metadata": {},
   "outputs": [],
   "source": [
    "hrrr_id = Hrrr_1 # Choose your HRRR\n",
    "hrrr_gust = hrrr_id[9].values\n",
    "hrrr_lat, hrrr_lon = hrrr_id[9].latlons()\n",
    "hrrr_temp = hrrr_id[46].values\n",
    "hrrr_wind_u = hrrr_id[42].values\n",
    "hrrr_wind_v = hrrr_id[43].values\n",
    "hrrr_pressure = hrrr_id[119].values\n",
    "hrrr_precip_rate = hrrr_id[83].values\n",
    "\n",
    "\n",
    "hrrr_gust_flat = np.concatenate(hrrr_gust)\n",
    "hrrr_lat_flat = np.concatenate(hrrr_lat)\n",
    "hrrr_lon_flat = np.concatenate(hrrr_lon)\n",
    "\n",
    "cell = []\n",
    "for g, lon, lat in zip(hrrr_gust_flat, hrrr_lon_flat, hrrr_lat_flat):\n",
    "    cell.append((g, lon, lat))\n",
    "\n",
    "hrrr_arr = np.asarray(cell)\n",
    "np.nan_to_num(hrrr_arr, False, 0)\n",
    "\n",
    "hrrr_df = pd.DataFrame(\n",
    "    {'WindGust': hrrr_arr[:,0],\n",
    "     'Longitude': hrrr_arr[:,1],\n",
    "     'Latitude': hrrr_arr[:,2]})\n",
    "\n",
    "hrrr_df = hrrr_df.round(4)"
   ]
  },
  {
   "cell_type": "markdown",
   "id": "4a046f07",
   "metadata": {},
   "source": [
    "### Save dataframe"
   ]
  },
  {
   "cell_type": "code",
   "execution_count": 8,
   "id": "54040d20",
   "metadata": {},
   "outputs": [],
   "source": [
    "hrrr_df.to_pickle('hrrr_20190801_df.pkl')"
   ]
  },
  {
   "cell_type": "code",
   "execution_count": null,
   "id": "7023c667",
   "metadata": {},
   "outputs": [],
   "source": []
  }
 ],
 "metadata": {
  "kernelspec": {
   "display_name": "Python 3",
   "language": "python",
   "name": "python3"
  },
  "language_info": {
   "codemirror_mode": {
    "name": "ipython",
    "version": 3
   },
   "file_extension": ".py",
   "mimetype": "text/x-python",
   "name": "python",
   "nbconvert_exporter": "python",
   "pygments_lexer": "ipython3",
   "version": "3.8.10"
  }
 },
 "nbformat": 4,
 "nbformat_minor": 5
}
