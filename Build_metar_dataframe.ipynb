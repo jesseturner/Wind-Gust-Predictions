{
 "cells": [
  {
   "cell_type": "code",
   "execution_count": 7,
   "id": "3de91a28",
   "metadata": {},
   "outputs": [],
   "source": [
    "from netCDF4 import Dataset\n",
    "import numpy as np\n",
    "import pandas as pd"
   ]
  },
  {
   "cell_type": "markdown",
   "id": "1f548656",
   "metadata": {},
   "source": [
    "### Load metar data"
   ]
  },
  {
   "cell_type": "code",
   "execution_count": 8,
   "id": "9ac50379",
   "metadata": {},
   "outputs": [],
   "source": [
    "Met_20190801 = Dataset( # Aug 1 2019 0300\n",
    "    '/Users/jesseturner/Documents/Wind_Gust_Prediction/Gust_data/2019_08_01_0300/20190801_0300')\n",
    "Met_20191101 = Dataset( # Nov 1 2019 0600\n",
    "    '/Users/jesseturner/Documents/Wind_Gust_Prediction/Gust_data/2019_11_01_0600/20191101_0600')\n",
    "Met_20200201 = Dataset( # Feb 1 2020 0900\n",
    "    '/Users/jesseturner/Documents/Wind_Gust_Prediction/Gust_data/2020_02_01_0900/20200201_0900')\n",
    "Met_20200501 = Dataset( # May 1 2020 1200\n",
    "    '/Users/jesseturner/Documents/Wind_Gust_Prediction/Gust_data/2020_05_01_1200/20200501_1200')\n",
    "Met_20200801 = Dataset( # Aug 1 2020 1500\n",
    "    '/Users/jesseturner/Documents/Wind_Gust_Prediction/Gust_data/2020_08_01_1500/20200801_1500')"
   ]
  },
  {
   "cell_type": "markdown",
   "id": "8f4b243c",
   "metadata": {},
   "source": [
    "### Compile and crop metar data\n",
    "Swap out the metar file for different plots."
   ]
  },
  {
   "cell_type": "code",
   "execution_count": 9,
   "id": "d93d03c2",
   "metadata": {},
   "outputs": [],
   "source": [
    "metar_id = Met_20200801 # Choose your metar\n",
    "met_gust = metar_id.variables['windGust']\n",
    "met_lon = metar_id.variables['longitude']\n",
    "met_lat = metar_id.variables['latitude']\n",
    "met_temp = metar_id.variables['temperature']\n",
    "met_windspeed = metar_id.variables['windSpeed']\n",
    "met_winddir = metar_id.variables['windDir']\n",
    "met_press = metar_id.variables['seaLevelPress']\n",
    "\n",
    "top = 49.3457868  # north lat\n",
    "left = -124.7844079  # west lon\n",
    "right = -66.9513812  # east lon\n",
    "bottom = 24.7433195  # south lat\n",
    "\n",
    "cell = []\n",
    "for g, lon, lat, t, ws, wd, p in zip(met_gust, met_lon, met_lat, \n",
    "                                     met_temp, met_windspeed, met_winddir, met_press):\n",
    "    if left <= lon <= right and bottom <= lat <= top:\n",
    "        cell.append((g, lon, lat, t, ws, wd, p))\n",
    "met_arr = np.asarray(cell)"
   ]
  },
  {
   "cell_type": "markdown",
   "id": "ab846452",
   "metadata": {},
   "source": [
    "### Convert metar to dataframe"
   ]
  },
  {
   "cell_type": "code",
   "execution_count": 10,
   "id": "f7c9a6b1",
   "metadata": {},
   "outputs": [],
   "source": [
    "met_df = pd.DataFrame(\n",
    "    {'MetWindGust': met_arr[:, 0],\n",
    "     'Longitude': met_arr[:, 1],\n",
    "     'Latitude': met_arr[:, 2],\n",
    "     'Temperature': met_arr[:, 3],\n",
    "     'WindSpeed': met_arr[:, 4],\n",
    "     'WindDirection': met_arr[:, 5],\n",
    "     'Pressure': met_arr[:, 6]})\n",
    "\n",
    "met_df = met_df.round(4)\n",
    "met_df = met_df.replace(np.NaN, 0)"
   ]
  },
  {
   "cell_type": "markdown",
   "id": "daac4ef2",
   "metadata": {},
   "source": [
    "### Save dataframe"
   ]
  },
  {
   "cell_type": "code",
   "execution_count": 11,
   "id": "b3fc4a0d",
   "metadata": {},
   "outputs": [],
   "source": [
    "met_df.to_pickle('metar_20200801_df.pkl')"
   ]
  },
  {
   "cell_type": "code",
   "execution_count": null,
   "id": "c86ae2cb",
   "metadata": {},
   "outputs": [],
   "source": []
  }
 ],
 "metadata": {
  "kernelspec": {
   "display_name": "Python 3",
   "language": "python",
   "name": "python3"
  },
  "language_info": {
   "codemirror_mode": {
    "name": "ipython",
    "version": 3
   },
   "file_extension": ".py",
   "mimetype": "text/x-python",
   "name": "python",
   "nbconvert_exporter": "python",
   "pygments_lexer": "ipython3",
   "version": "3.8.10"
  }
 },
 "nbformat": 4,
 "nbformat_minor": 5
}
