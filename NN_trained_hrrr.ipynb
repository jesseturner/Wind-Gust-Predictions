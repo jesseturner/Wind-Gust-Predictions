{
 "cells": [
  {
   "cell_type": "code",
   "execution_count": 1,
   "id": "f21852a0",
   "metadata": {},
   "outputs": [],
   "source": [
    "import numpy as np\n",
    "import pandas as pd\n",
    "from sklearn.model_selection import train_test_split, GridSearchCV\n",
    "from sklearn.preprocessing import StandardScaler\n",
    "from sklearn.neural_network import MLPRegressor\n",
    "from sklearn import metrics\n",
    "from sklearn.pipeline import Pipeline\n",
    "from sklearn.inspection import plot_partial_dependence"
   ]
  },
  {
   "cell_type": "code",
   "execution_count": 2,
   "id": "65baa63f",
   "metadata": {},
   "outputs": [],
   "source": [
    "met_df = pd.read_pickle('metar_20190801_df.pkl') # Training\n",
    "met_df_test = pd.read_pickle('metar_20200801_df.pkl') # Testing"
   ]
  },
  {
   "cell_type": "code",
   "execution_count": 3,
   "id": "ee0ccf11",
   "metadata": {},
   "outputs": [],
   "source": [
    "hrrr_df = pd.read_pickle('hrrr_20190801_df.pkl')"
   ]
  },
  {
   "cell_type": "code",
   "execution_count": null,
   "id": "0587495e",
   "metadata": {},
   "outputs": [],
   "source": [
    "array_train = met_df_train.values\n",
    "X_train = array_train[:, 1:8]\n",
    "y = array_train[:, 0]\n",
    "\n",
    "scaler = StandardScaler()\n",
    "rescaled_X_train = (scaler.fit_transform(X_train[:, 3:8])) # doesn't include lon, lat"
   ]
  },
  {
   "cell_type": "code",
   "execution_count": null,
   "id": "f142d0d8",
   "metadata": {},
   "outputs": [],
   "source": [
    "mlp = MLPRegressor(hidden_layer_sizes=(100, 50), activation='relu', solver='adam',\n",
    "                   alpha=0.0001, batch_size='auto', learning_rate='adaptive', learning_rate_init=0.001,\n",
    "                   power_t=0.5, max_iter=1500, shuffle=True, random_state=None, tol=0.0001, verbose=False,\n",
    "                   warm_start=False, momentum=0.9, nesterovs_momentum=True, early_stopping=False,\n",
    "                   validation_fraction=0.1, beta_1=0.9, beta_2=0.999, epsilon=1e-08)\n",
    "mlp = mlp.fit(rescaled_X_train, y)\n",
    "\n",
    "#y_predict_mlp = mlp.predict(rescaled_X_test)"
   ]
  }
 ],
 "metadata": {
  "kernelspec": {
   "display_name": "Python 3",
   "language": "python",
   "name": "python3"
  },
  "language_info": {
   "codemirror_mode": {
    "name": "ipython",
    "version": 3
   },
   "file_extension": ".py",
   "mimetype": "text/x-python",
   "name": "python",
   "nbconvert_exporter": "python",
   "pygments_lexer": "ipython3",
   "version": "3.8.10"
  }
 },
 "nbformat": 4,
 "nbformat_minor": 5
}
