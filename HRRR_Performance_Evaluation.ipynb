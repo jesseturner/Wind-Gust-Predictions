{
 "cells": [
  {
   "cell_type": "markdown",
   "id": "adfcc1e0",
   "metadata": {},
   "source": [
    "# Evaluating HRRR performance in wind gust potential"
   ]
  },
  {
   "cell_type": "code",
   "execution_count": null,
   "id": "65cb0913",
   "metadata": {},
   "outputs": [],
   "source": [
    "from netCDF4 import Dataset\n",
    "import numpy as np\n",
    "import pandas as pd\n",
    "import matplotlib.pyplot as plt\n",
    "from scipy.spatial import distance\n",
    "import pygrib\n",
    "from sklearn import metrics"
   ]
  },
  {
   "cell_type": "markdown",
   "id": "9265c2ae",
   "metadata": {},
   "source": [
    "### Loading data\n",
    "\n",
    "These datasets are not at the same time, so only general trends can be evaluated. \n",
    "\n",
    "Future - Find nearest METAR station to a HRRR prediction in order to evaluate specific predictions. "
   ]
  },
  {
   "cell_type": "code",
   "execution_count": null,
   "id": "3ade074b",
   "metadata": {},
   "outputs": [],
   "source": [
    "Met_20170701 = Dataset(  # Metar\n",
    "    '/Users/jesseturner/Documents/Wind_Gust_Prediction/Gust_data/20170701_0000')\n",
    "Met_20180613 = Dataset(  # Metar\n",
    "    '/Users/jesseturner/Documents/Wind_Gust_Prediction/Gust_data/20180613_0000')\n",
    "#Hrrr = Dataset(  # HRRR\n",
    "#    '/Users/jesseturner/Documents/Wind_Gust_Prediction/Gust_data/extract2Da.esrl_hrrr.201718201001300.nc')\n",
    "\n",
    "Met_20190801 = Dataset( # Synced\n",
    "    '/Users/jesseturner/Documents/Wind_Gust_Prediction/Gust_data/2019_08_01/20190801_0300')\n",
    "Hrrr = pygrib.open(  # Synced\n",
    "    '/Users/jesseturner/Documents/Wind_Gust_Prediction/Gust_data/2019_08_01/csu_econ.1921300000300.grib2')"
   ]
  },
  {
   "cell_type": "markdown",
   "id": "f384aa9e",
   "metadata": {},
   "source": [
    "Removing any wind gusts > 10,000 m/s, should only be NAN fill values (3.4028235e+38). "
   ]
  },
  {
   "cell_type": "code",
   "execution_count": null,
   "id": "ec6e5d29",
   "metadata": {},
   "outputs": [],
   "source": [
    "met_lon = Met_20190801.variables['longitude']\n",
    "met_lat = Met_20190801.variables['latitude']\n",
    "met_gust = Met_20190801.variables['windGust']\n",
    "met_temp = Met_20190801.variables['temperature']\n",
    "met_windspeed = Met_20190801.variables['windSpeed']\n",
    "met_press = Met_20190801.variables['seaLevelPress']\n",
    "\n",
    "top = 49.3457868  # north lat\n",
    "left = -124.7844079  # west lon\n",
    "right = -66.9513812  # east lon\n",
    "bottom = 24.7433195  # south lat\n",
    "\n",
    "cell = []\n",
    "for g, lon, lat, t, ws, p in zip(met_gust, met_lon, met_lat, \n",
    "                                     met_temp, met_windspeed, met_press):\n",
    "    if left <= lon <= right and bottom <= lat <= top:\n",
    "        cell.append((g, lon, lat, t, ws, p))\n",
    "\n",
    "met_arr = np.asarray(cell)\n",
    "np.nan_to_num(met_arr, False, 0)\n",
    "met_arr.shape"
   ]
  },
  {
   "cell_type": "code",
   "execution_count": null,
   "id": "e916db4d",
   "metadata": {},
   "outputs": [],
   "source": [
    "#hrrr_gust = Hrrr.variables['GUST_P0_L1_GLC0']\n",
    "#hrrr_lat = Hrrr.variables['gridlat_0']\n",
    "#hrrr_lon = Hrrr.variables['gridlon_0']\n",
    "hrrr_gust = Hrrr[9].values\n",
    "hrrr_lat, hrrr_lon = Hrrr[9].latlons()\n",
    "\n",
    "\n",
    "hrrr_gust_flat = np.concatenate(hrrr_gust)\n",
    "hrrr_lat_flat = np.concatenate(hrrr_lat)\n",
    "hrrr_lon_flat = np.concatenate(hrrr_lon)\n",
    "\n",
    "cell = []\n",
    "for g, lon, lat in zip(hrrr_gust_flat, hrrr_lon_flat, hrrr_lat_flat):\n",
    "    cell.append((g, lon, lat))\n",
    "\n",
    "hrrr_arr = np.asarray(cell)\n",
    "np.nan_to_num(hrrr_arr, False, 0)\n",
    "hrrr_arr.shape"
   ]
  },
  {
   "cell_type": "markdown",
   "id": "0c0842c5",
   "metadata": {},
   "source": [
    "Looking for interesting features of the aggregate predictions. "
   ]
  },
  {
   "cell_type": "code",
   "execution_count": null,
   "id": "7c2f404c",
   "metadata": {
    "scrolled": true
   },
   "outputs": [],
   "source": [
    "hist_metar = plt.hist(met_arr[:, 0], bins=30, color='navy', range=[0,30], )\n",
    "plt.title(\"METAR Observations\")\n",
    "plt.ylim(0,1000)"
   ]
  },
  {
   "cell_type": "code",
   "execution_count": null,
   "id": "07e083c4",
   "metadata": {
    "scrolled": true
   },
   "outputs": [],
   "source": [
    "hist_hrrr = plt.hist(hrrr_arr[:, 0], bins=30, color='navy', range=[0,30], )\n",
    "plt.title(\"HRRR Predictions\")\n",
    "plt.ylim(0,1000000)"
   ]
  },
  {
   "cell_type": "markdown",
   "id": "b650c07f",
   "metadata": {},
   "source": [
    "### Comparing METAR observed wind gust to wind speed\n",
    "\n",
    "\"Time\" would be a better x-axis, but I don't currently have data over time. "
   ]
  },
  {
   "cell_type": "code",
   "execution_count": null,
   "id": "c3e52d65",
   "metadata": {},
   "outputs": [],
   "source": [
    "met_arr[:,0].shape"
   ]
  },
  {
   "cell_type": "code",
   "execution_count": null,
   "id": "40bcaba2",
   "metadata": {},
   "outputs": [],
   "source": [
    "plt.scatter(hrrr_arr[:,1], hrrr_arr[:,0], color='orange', s=5, alpha=0.3, label='HRRR prediction')\n",
    "plt.scatter(met_arr[:,1], met_arr[:,0],  color='navy', s=5, alpha=1, label='METAR observation')\n",
    "plt.title(\"Scatter Comparison\")\n",
    "plt.legend(loc='upper left')\n",
    "plt.xlabel(\"Longitude\", size = 10)\n",
    "plt.ylabel(\"Wind Gust (meter/sec)\", size = 10)"
   ]
  },
  {
   "cell_type": "code",
   "execution_count": null,
   "id": "cfb2331b",
   "metadata": {},
   "outputs": [],
   "source": [
    "plt.plot(met_arr[0:200,4], color='LightBlue', label='Wind Speed')\n",
    "plt.plot(met_arr[0:200,0], color='Blue', label='Wind Gust')\n",
    "plt.legend()\n",
    "plt.ylabel(\"meter/sec\", size = 10)"
   ]
  },
  {
   "cell_type": "markdown",
   "id": "e1433c60",
   "metadata": {},
   "source": [
    "### Testing the process of building the closest HRRR to METAR table. \n",
    "This scipy distance method is much faster."
   ]
  },
  {
   "cell_type": "code",
   "execution_count": null,
   "id": "b2c5aadf",
   "metadata": {},
   "outputs": [],
   "source": [
    "def closest_node(metar, hrrrs):\n",
    "    closest_index = distance.cdist([metar], hrrrs).argmin()\n",
    "    return hrrrs[closest_index]\n",
    "\n",
    "hrrr_data = hrrr_arr\n",
    "lookup_dict = {}\n",
    "\n",
    "for i in range(0,150): \n",
    "    metar_pt = (round(met_arr[i, 1],3), round(met_arr[i, 2],3))\n",
    "    metar_gust = met_arr[i, 0]\n",
    "    hrrr_pt = closest_node(metar_pt, hrrr_data[:, 1:3])\n",
    "    hrrr_gust = hrrr_data[i, 0]\n",
    "    lookup_dict[i] = {\n",
    "        \"metar\": metar_pt,\n",
    "        \"hrrr\": (round(hrrr_pt[0],3), round(hrrr_pt[1],3)),\n",
    "        \"hrrr gust\": hrrr_gust,\n",
    "        \"metar gust\": metar_gust\n",
    "    }"
   ]
  },
  {
   "cell_type": "markdown",
   "id": "2a42a7e0",
   "metadata": {},
   "source": [
    "### Make map figure with cartopy\n",
    "\n",
    "Got error: \"Shell is not a LinearRing\" before, but it went away after changing projection to Mercator. "
   ]
  },
  {
   "cell_type": "code",
   "execution_count": null,
   "id": "674134a9",
   "metadata": {
    "scrolled": false
   },
   "outputs": [],
   "source": [
    "import cartopy.crs as ccrs\n",
    "from cartopy import feature as cfeature\n",
    "\n",
    "fig = plt.figure(figsize=(10, 10), facecolor='w')\n",
    "ax = fig.add_subplot(1, 1, 1, projection=ccrs.Mercator())\n",
    "ax.set_extent([-130, -60, 20, 55], crs=ccrs.PlateCarree())\n",
    "\n",
    "ax.add_feature(cfeature.COASTLINE, lw=0.5)\n",
    "#ax.add_feature(cfeature.BORDERS, lw=0.5)\n",
    "ax.add_feature(cfeature.OCEAN, zorder=0, color='lightblue', lw=0.3, edgecolor='none')\n",
    "ax.add_feature(cfeature.LAKES, zorder=0, facecolor='lightblue', lw=0.3,  edgecolor='black')\n",
    "\n",
    "metar_lons = []\n",
    "metar_lats = []\n",
    "hrrr_lons = []\n",
    "hrrr_lats = []\n",
    "metar_gust = []\n",
    "hrrr_gust = []\n",
    "\n",
    "for i in range(0,150):\n",
    "    metar_lons.append(lookup_dict[i]['metar'][0])\n",
    "    metar_lats.append(lookup_dict[i]['metar'][1])\n",
    "    hrrr_lons.append(lookup_dict[i]['hrrr'][0])\n",
    "    hrrr_lats.append(lookup_dict[i]['hrrr'][1])\n",
    "    metar_gust.append(lookup_dict[i]['metar gust'])\n",
    "    hrrr_gust.append(lookup_dict[i]['hrrr gust'])\n",
    "    \n",
    "plt.scatter(metar_lons, metar_lats, c='Navy', s=50, \n",
    "    marker='x', label=\"METAR station\", transform=ccrs.PlateCarree())\n",
    "plt.scatter(hrrr_lons, hrrr_lats, c='Orange', s=10, \n",
    "    label=\"HRRR prediction point\", transform=ccrs.PlateCarree())\n",
    "\n",
    "plt.legend()\n",
    "\n",
    "plt.show()"
   ]
  },
  {
   "cell_type": "markdown",
   "id": "56bb493e",
   "metadata": {},
   "source": [
    "### Testing accuracy of HRRR predictions"
   ]
  },
  {
   "cell_type": "code",
   "execution_count": null,
   "id": "2ca0513e",
   "metadata": {},
   "outputs": [],
   "source": [
    "plt.scatter(hrrr_gust, metar_gust, c='Navy', s=20, label=\"METAR station\")\n",
    "    \n",
    "plt.ylabel(\"Metar Gust (m/s)\", size = 10)\n",
    "plt.xlabel(\"HRRR Gust (m/s)\", size = 10)"
   ]
  },
  {
   "cell_type": "code",
   "execution_count": null,
   "id": "ed6dc893",
   "metadata": {},
   "outputs": [],
   "source": [
    "print('RMSE:', np.sqrt(\n",
    "    metrics.mean_squared_error(hrrr_gust, metar_gust)).round(4))"
   ]
  },
  {
   "cell_type": "code",
   "execution_count": null,
   "id": "8a6e3677",
   "metadata": {},
   "outputs": [],
   "source": []
  }
 ],
 "metadata": {
  "kernelspec": {
   "display_name": "Python 3",
   "language": "python",
   "name": "python3"
  },
  "language_info": {
   "codemirror_mode": {
    "name": "ipython",
    "version": 3
   },
   "file_extension": ".py",
   "mimetype": "text/x-python",
   "name": "python",
   "nbconvert_exporter": "python",
   "pygments_lexer": "ipython3",
   "version": "3.8.10"
  }
 },
 "nbformat": 4,
 "nbformat_minor": 5
}
