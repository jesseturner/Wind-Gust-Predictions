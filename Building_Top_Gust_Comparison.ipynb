{
 "cells": [
  {
   "cell_type": "markdown",
   "id": "e58c0d93",
   "metadata": {},
   "source": [
    "# Metar plots"
   ]
  },
  {
   "cell_type": "code",
   "execution_count": 114,
   "id": "25a32d9d",
   "metadata": {},
   "outputs": [],
   "source": [
    "from netCDF4 import Dataset\n",
    "import numpy as np\n",
    "import pandas as pd\n",
    "import matplotlib.pyplot as plt\n",
    "import cartopy.crs as ccrs\n",
    "from cartopy import feature as cfeature\n",
    "import pygrib\n",
    "from scipy.spatial import distance\n",
    "from sklearn import metrics\n",
    "from sklearn.preprocessing import StandardScaler\n",
    "from sklearn.neural_network import MLPRegressor"
   ]
  },
  {
   "cell_type": "markdown",
   "id": "7d9d78d5",
   "metadata": {},
   "source": [
    "### Load metar data"
   ]
  },
  {
   "cell_type": "code",
   "execution_count": null,
   "id": "eb4ca51f",
   "metadata": {},
   "outputs": [],
   "source": [
    "Met_20190801 = Dataset( # Aug 1 2019 0300\n",
    "    '/Users/jesseturner/Documents/Wind_Gust_Prediction/Gust_data/2019_08_01_0300/20190801_0300')\n",
    "Met_20191101 = Dataset( # Nov 1 2019 0600\n",
    "    '/Users/jesseturner/Documents/Wind_Gust_Prediction/Gust_data/2019_11_01_0600/20191101_0600')\n",
    "Met_20200201 = Dataset( # Feb 1 2020 0900\n",
    "    '/Users/jesseturner/Documents/Wind_Gust_Prediction/Gust_data/2020_02_01_0900/20200201_0900')\n",
    "Met_20200501 = Dataset( # May 1 2020 1200\n",
    "    '/Users/jesseturner/Documents/Wind_Gust_Prediction/Gust_data/2020_05_01_1200/20200501_1200')\n",
    "Met_20200801 = Dataset( # Aug 1 2020 1500\n",
    "    '/Users/jesseturner/Documents/Wind_Gust_Prediction/Gust_data/2020_08_01_1500/20200801_1500')"
   ]
  },
  {
   "cell_type": "markdown",
   "id": "2e25f77b",
   "metadata": {},
   "source": [
    "### Compile and crop metar data\n",
    "Swap out the metar file for different plots."
   ]
  },
  {
   "cell_type": "code",
   "execution_count": null,
   "id": "85e34f44",
   "metadata": {},
   "outputs": [],
   "source": [
    "metar_id = Met_20190801 # Choose your metar\n",
    "met_gust = metar_id.variables['windGust']\n",
    "met_lon = metar_id.variables['longitude']\n",
    "met_lat = metar_id.variables['latitude']\n",
    "met_temp = metar_id.variables['temperature']\n",
    "met_windspeed = metar_id.variables['windSpeed']\n",
    "met_winddir = metar_id.variables['windDir']\n",
    "met_press = metar_id.variables['seaLevelPress']\n",
    "\n",
    "top = 49.3457868  # north lat\n",
    "left = -124.7844079  # west lon\n",
    "right = -66.9513812  # east lon\n",
    "bottom = 24.7433195  # south lat\n",
    "\n",
    "cell = []\n",
    "for g, lon, lat, t, ws, wd, p in zip(met_gust, met_lon, met_lat, \n",
    "                                     met_temp, met_windspeed, met_winddir, met_press):\n",
    "    if left <= lon <= right and bottom <= lat <= top:\n",
    "        cell.append((g, lon, lat, t, ws, wd, p))\n",
    "met_arr = np.asarray(cell)"
   ]
  },
  {
   "cell_type": "markdown",
   "id": "174257a0",
   "metadata": {},
   "source": [
    "### Convert metar to dataframe"
   ]
  },
  {
   "cell_type": "code",
   "execution_count": null,
   "id": "c0cfe7cd",
   "metadata": {},
   "outputs": [],
   "source": [
    "met_df = pd.DataFrame(\n",
    "    {'MetWindGust': met_arr[:, 0],\n",
    "     'Longitude': met_arr[:, 1],\n",
    "     'Latitude': met_arr[:, 2],\n",
    "     'Temperature': met_arr[:, 3],\n",
    "     'WindSpeed': met_arr[:, 4],\n",
    "     'WindDirection': met_arr[:, 5],\n",
    "     'Pressure': met_arr[:, 6]})\n",
    "\n",
    "met_df = met_df.round(4)\n",
    "met_df = met_df.replace(np.NaN, 0)"
   ]
  },
  {
   "cell_type": "markdown",
   "id": "f3e506f0",
   "metadata": {},
   "source": [
    "### Limiting to highest gusts\n",
    "Finding situations where wind gust is greater than 15.6 m/s. \"Moderate Risk\" for general populace, higher risk for aviation. "
   ]
  },
  {
   "cell_type": "code",
   "execution_count": null,
   "id": "0095900b",
   "metadata": {},
   "outputs": [],
   "source": [
    "filtered_values = np.where((met_df['MetWindGust']>=15.6))\n",
    "high_gust = met_df.loc[filtered_values]"
   ]
  },
  {
   "cell_type": "markdown",
   "id": "9022116e",
   "metadata": {},
   "source": [
    "### Making metar plots\n",
    "One at a time, saved in folder. "
   ]
  },
  {
   "cell_type": "code",
   "execution_count": null,
   "id": "c2e22fc6",
   "metadata": {},
   "outputs": [],
   "source": [
    "fig = plt.figure(figsize=(10, 10), facecolor='w')\n",
    "ax = fig.add_subplot(1, 1, 1, projection=ccrs.Mercator())\n",
    "ax.set_extent([-130, -60, 20, 55], crs=ccrs.PlateCarree())\n",
    "\n",
    "ax.add_feature(cfeature.COASTLINE)\n",
    "ax.add_feature(cfeature.BORDERS, linestyle=':')\n",
    "\n",
    "plt.scatter(high_gust.Longitude, high_gust.Latitude, c='Red', alpha=0.5,\n",
    "             vmin=0, vmax=50, s=250, label='Peak Gusts', transform=ccrs.PlateCarree())\n",
    "\n",
    "plt.title('Aug 1 2020 1500 UTC (9:00AM MDT)')\n",
    "plt.legend()\n",
    "plt.show()"
   ]
  },
  {
   "cell_type": "markdown",
   "id": "6f704142",
   "metadata": {},
   "source": [
    "# HRRR plots"
   ]
  },
  {
   "cell_type": "markdown",
   "id": "370df3c3",
   "metadata": {},
   "source": [
    "### Load data"
   ]
  },
  {
   "cell_type": "code",
   "execution_count": 134,
   "id": "12fa89c9",
   "metadata": {},
   "outputs": [],
   "source": [
    "Hrrr_1 = pygrib.open(  # Aug 1 2019 0300\n",
    "    '/Users/jesseturner/Documents/Wind_Gust_Prediction/Gust_data/2019_08_01_0300/csu_econ.1921300000300.grib2')\n",
    "Hrrr_2 = pygrib.open(  # Nov 1 2019 0600\n",
    "    '/Users/jesseturner/Documents/Wind_Gust_Prediction/Gust_data/2019_11_01_0600/csu_econ.1930503000300.grib2')\n",
    "Hrrr_3 = pygrib.open(  # Feb 1 2019 0900\n",
    "    '/Users/jesseturner/Documents/Wind_Gust_Prediction/Gust_data/2020_02_01_0900/csu_econ.2003206000300.grib2')\n",
    "Hrrr_4 = pygrib.open(  # May 1 2019 1200\n",
    "    '/Users/jesseturner/Documents/Wind_Gust_Prediction/Gust_data/2020_05_01_1200/csu_econ.2012209000300.grib2')\n",
    "Hrrr_5 = pygrib.open(  # Aug 1 2019 1500\n",
    "    '/Users/jesseturner/Documents/Wind_Gust_Prediction/Gust_data/2020_08_01_1500/csu_econ.2021412000300.grib2')"
   ]
  },
  {
   "cell_type": "markdown",
   "id": "1c4b7ee4",
   "metadata": {},
   "source": [
    "### Processing HRRR data\n",
    "Just replace the inputs (HRRR_#) and rerun. Other HRRR fields will be used for training the neural network. "
   ]
  },
  {
   "cell_type": "code",
   "execution_count": 148,
   "id": "1eb14111",
   "metadata": {},
   "outputs": [],
   "source": [
    "hrrr_id = Hrrr_5 # Choose your HRRR\n",
    "hrrr_gust = hrrr_id[9].values\n",
    "hrrr_lat, hrrr_lon = hrrr_id[9].latlons()\n",
    "hrrr_temp = hrrr_id[46].values\n",
    "hrrr_wind_u = hrrr_id[42].values\n",
    "hrrr_wind_v = hrrr_id[43].values\n",
    "hrrr_pressure = hrrr_id[119].values\n",
    "hrrr_precip_rate = hrrr_id[83].values\n",
    "\n",
    "\n",
    "hrrr_gust_flat = np.concatenate(hrrr_gust)\n",
    "hrrr_lat_flat = np.concatenate(hrrr_lat)\n",
    "hrrr_lon_flat = np.concatenate(hrrr_lon)\n",
    "\n",
    "cell = []\n",
    "for g, lon, lat in zip(hrrr_gust_flat, hrrr_lon_flat, hrrr_lat_flat):\n",
    "    cell.append((g, lon, lat))\n",
    "\n",
    "hrrr_arr = np.asarray(cell)\n",
    "np.nan_to_num(hrrr_arr, False, 0)\n",
    "\n",
    "hrrr_df = pd.DataFrame(\n",
    "    {'WindGust': hrrr_arr[:,0],\n",
    "     'Longitude': hrrr_arr[:,1],\n",
    "     'Latitude': hrrr_arr[:,2]})\n",
    "\n",
    "hrrr_df = hrrr_df.round(4)"
   ]
  },
  {
   "cell_type": "markdown",
   "id": "1e841bae",
   "metadata": {},
   "source": [
    "### Limiting to highest gusts"
   ]
  },
  {
   "cell_type": "code",
   "execution_count": 149,
   "id": "f73c6cbe",
   "metadata": {},
   "outputs": [],
   "source": [
    "filtered_values = np.where((hrrr_df['WindGust']>=15.6))\n",
    "hrrr_gust_high = hrrr_df.loc[filtered_values]"
   ]
  },
  {
   "cell_type": "markdown",
   "id": "b45bf09a",
   "metadata": {},
   "source": [
    "### Making HRRR plots"
   ]
  },
  {
   "cell_type": "code",
   "execution_count": 150,
   "id": "5e0af55a",
   "metadata": {},
   "outputs": [
    {
     "data": {
      "image/png": "[encoded data removed]",
      "text/plain": [
       "<Figure size 720x720 with 1 Axes>"
      ]
     },
     "metadata": {},
     "output_type": "display_data"
    }
   ],
   "source": [
    "fig = plt.figure(figsize=(10, 10), facecolor='w')\n",
    "ax = fig.add_subplot(1, 1, 1, projection=ccrs.Mercator())\n",
    "ax.set_extent([-130, -60, 20, 55], crs=ccrs.PlateCarree())\n",
    "\n",
    "ax.add_feature(cfeature.COASTLINE)\n",
    "ax.add_feature(cfeature.BORDERS, linestyle=':')\n",
    "\n",
    "plt.scatter(hrrr_gust_high.Longitude, hrrr_gust_high.Latitude, c='Red', alpha=0.5,\n",
    "             vmin=0, vmax=50, s=50, label='Peak Gusts', transform=ccrs.PlateCarree())\n",
    "\n",
    "plt.title('HRRR Forecast for: Aug 1 2020 1500 UTC (9:00AM MDT)')\n",
    "plt.legend()\n",
    "plt.show()"
   ]
  },
  {
   "cell_type": "markdown",
   "id": "d77c89eb",
   "metadata": {},
   "source": [
    "### Evaluating HRRR performance\n",
    "\n",
    "Doesn't work yet. "
   ]
  },
  {
   "cell_type": "code",
   "execution_count": null,
   "id": "73937553",
   "metadata": {},
   "outputs": [],
   "source": [
    "def closest_node(metar, hrrrs):\n",
    "    closest_index = distance.cdist([metar], hrrrs).argmin()\n",
    "    return hrrrs[closest_index]\n",
    "\n",
    "hrrr_data = hrrr_arr\n",
    "lookup_dict = {}\n",
    "\n",
    "for i in range(0,4394): \n",
    "    metar_pt = (round(met_arr[i, 1],3), round(met_arr[i, 2],3))\n",
    "    metar_gust = met_arr[i, 0]\n",
    "    hrrr_pt = closest_node(metar_pt, hrrr_data[:, 1:3])\n",
    "    hrrr_gust = hrrr_data[i, 0]\n",
    "    lookup_dict[i] = {\n",
    "        \"metar\": metar_pt,\n",
    "        \"hrrr\": (round(hrrr_pt[0],3), round(hrrr_pt[1],3)),\n",
    "        \"hrrr gust\": hrrr_gust,\n",
    "        \"metar gust\": metar_gust\n",
    "    }"
   ]
  },
  {
   "cell_type": "code",
   "execution_count": null,
   "id": "a8979518",
   "metadata": {},
   "outputs": [],
   "source": [
    "metar_gust = []\n",
    "hrrr_gust = []\n",
    "\n",
    "for i in range(0,4394):\n",
    "    metar_gust.append(lookup_dict[i]['metar gust'])\n",
    "    hrrr_gust.append(lookup_dict[i]['hrrr gust'])"
   ]
  },
  {
   "cell_type": "code",
   "execution_count": null,
   "id": "010690c7",
   "metadata": {
    "scrolled": false
   },
   "outputs": [],
   "source": [
    "print('RMSE:', np.sqrt(\n",
    "    metrics.mean_squared_error(hrrr_gust, metar_gust)).round(4))"
   ]
  },
  {
   "cell_type": "markdown",
   "id": "a32e42e4",
   "metadata": {},
   "source": [
    "# Neural network plots\n",
    "In process of being set up"
   ]
  },
  {
   "cell_type": "markdown",
   "id": "ee67b839",
   "metadata": {},
   "source": [
    "### Training data for neural network\n",
    "\n",
    "Will actually use HRRR inputs, with a colocated metar output. So it trains on HRRR to predict metar. "
   ]
  },
  {
   "cell_type": "code",
   "execution_count": null,
   "id": "9298bb87",
   "metadata": {},
   "outputs": [],
   "source": [
    "Met_20170701 = Dataset(  # Metar Training Data\n",
    "    '/Users/jesseturner/Documents/Wind_Gust_Prediction/Gust_data/20170701_0000')\n",
    "Met_20180613 = Dataset(  # Metar Training Data\n",
    "    '/Users/jesseturner/Documents/Wind_Gust_Prediction/Gust_data/20180613_0000')"
   ]
  },
  {
   "cell_type": "markdown",
   "id": "c2e5c4ec",
   "metadata": {},
   "source": [
    "### Combining training data"
   ]
  },
  {
   "cell_type": "code",
   "execution_count": null,
   "id": "71d77a67",
   "metadata": {},
   "outputs": [],
   "source": [
    "met_gust_1 = Met_20170701.variables['windGust']\n",
    "met_temp_1 = Met_20170701.variables['temperature']\n",
    "met_windspeed_1 = Met_20170701.variables['windSpeed']\n",
    "met_winddir_1 = Met_20170701.variables['windDir']\n",
    "met_press_1 = Met_20170701.variables['seaLevelPress']\n",
    "\n",
    "met_gust_2 = Met_20180613.variables['windGust']\n",
    "met_lon_2 = Met_20180613.variables['longitude']\n",
    "met_lat_2 = Met_20180613.variables['latitude']\n",
    "met_temp_2 = Met_20180613.variables['temperature']\n",
    "met_windspeed_2 = Met_20180613.variables['windSpeed']\n",
    "met_winddir_2 = Met_20180613.variables['windDir']\n",
    "met_press_2 = Met_20180613.variables['seaLevelPress']\n",
    "\n",
    "top = 49.3457868  # north lat\n",
    "left = -124.7844079  # west lon\n",
    "right = -66.9513812  # east lon\n",
    "bottom = 24.7433195  # south lat\n",
    "\n",
    "cell = []\n",
    "for g, lon, lat, t, ws, wd, p in zip(met_gust_1, met_lon_1, met_lat_1, \n",
    "                                     met_temp_1, met_windspeed_1, met_winddir_1, met_press_1):\n",
    "    if left <= lon <= right and bottom <= lat <= top:\n",
    "        cell.append((g, lon, lat, t, ws, wd, p))\n",
    "\n",
    "for g, lon, lat, t, ws, wd, p in zip(met_gust_2, met_lon_2, met_lat_2, \n",
    "                                     met_temp_2, met_windspeed_2, met_winddir_2, met_press_2):\n",
    "    if left <= lon <= right and bottom <= lat <= top:\n",
    "        cell.append((g, lon, lat, t, ws, wd, p))\n",
    "\n",
    "met_pos = np.asarray(cell)"
   ]
  },
  {
   "cell_type": "markdown",
   "id": "5d57f1e3",
   "metadata": {},
   "source": [
    "### Making dataframe"
   ]
  },
  {
   "cell_type": "code",
   "execution_count": null,
   "id": "ed4e1a01",
   "metadata": {},
   "outputs": [],
   "source": [
    "met_df_train = pd.DataFrame(\n",
    "    {'MetWindGust': met_pos[:, 0],\n",
    "     'Longitude': met_pos[:, 1],\n",
    "     'Latitude': met_pos[:, 2],\n",
    "     'Temperature': met_pos[:, 3],\n",
    "     'WindSpeed': met_pos[:, 4],\n",
    "     'WindDirection': met_pos[:, 5],\n",
    "     'Pressure': met_pos[:, 6]})\n",
    "\n",
    "met_df_train = met_df_train.round(4)\n",
    "met_df_train = met_df_train.replace(np.NaN, 0)"
   ]
  },
  {
   "cell_type": "markdown",
   "id": "8b0830f6",
   "metadata": {},
   "source": [
    "### Rescaling and splitting training data\n",
    "\n",
    "Testing data comes from above. "
   ]
  },
  {
   "cell_type": "code",
   "execution_count": null,
   "id": "29c358c2",
   "metadata": {},
   "outputs": [],
   "source": [
    "array_train = met_df_train.values\n",
    "X_train = array_train[:, 1:8]\n",
    "y = array_train[:, 0]\n",
    "\n",
    "scaler = StandardScaler()\n",
    "rescaled_X_train = (scaler.fit_transform(X_train[:, 3:8])) # doesn't include lon, lat"
   ]
  },
  {
   "cell_type": "markdown",
   "id": "75ce57a6",
   "metadata": {},
   "source": [
    "### Training and running neural network"
   ]
  },
  {
   "cell_type": "code",
   "execution_count": null,
   "id": "5e589de1",
   "metadata": {},
   "outputs": [],
   "source": [
    "mlp = MLPRegressor(hidden_layer_sizes=(100, 50), activation='relu', solver='adam',\n",
    "                   alpha=0.0001, batch_size='auto', learning_rate='adaptive', learning_rate_init=0.001,\n",
    "                   power_t=0.5, max_iter=1500, shuffle=True, random_state=None, tol=0.0001, verbose=False,\n",
    "                   warm_start=False, momentum=0.9, nesterovs_momentum=True, early_stopping=False,\n",
    "                   validation_fraction=0.1, beta_1=0.9, beta_2=0.999, epsilon=1e-08)\n",
    "mlp = mlp.fit(rescaled_X_train, y)\n",
    "\n",
    "#y_predict_mlp = mlp.predict(rescaled_X_test)"
   ]
  },
  {
   "cell_type": "code",
   "execution_count": null,
   "id": "61a848a5",
   "metadata": {},
   "outputs": [],
   "source": [
    "y_predict_mlp = mlp.predict(rescaled_X_test)"
   ]
  }
 ],
 "metadata": {
  "kernelspec": {
   "display_name": "Python 3",
   "language": "python",
   "name": "python3"
  },
  "language_info": {
   "codemirror_mode": {
    "name": "ipython",
    "version": 3
   },
   "file_extension": ".py",
   "mimetype": "text/x-python",
   "name": "python",
   "nbconvert_exporter": "python",
   "pygments_lexer": "ipython3",
   "version": "3.8.10"
  }
 },
 "nbformat": 4,
 "nbformat_minor": 5
}
